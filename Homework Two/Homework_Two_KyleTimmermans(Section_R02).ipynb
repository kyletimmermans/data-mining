{
  "nbformat": 4,
  "nbformat_minor": 0,
  "metadata": {
    "colab": {
      "name": "Homework_Two_KyleTimmermans(Section R02).ipynb",
      "provenance": [],
      "collapsed_sections": []
    },
    "kernelspec": {
      "name": "python3",
      "display_name": "Python 3"
    }
  },
  "cells": [
    {
      "cell_type": "markdown",
      "metadata": {
        "id": "KKusdn02hVkG"
      },
      "source": [
        "Kyle Timmermans (R02) - Dr. Li - HW #2 - 3/4/21"
      ]
    },
    {
      "cell_type": "markdown",
      "metadata": {
        "id": "ap_FbG3PjF_J"
      },
      "source": [
        "Import statements to begin with, below"
      ]
    },
    {
      "cell_type": "code",
      "metadata": {
        "id": "yv0CnXbVhc5j"
      },
      "source": [
        "import numpy as np\n",
        "import pandas as pd\n",
        "from pandas import Series, DataFrame "
      ],
      "execution_count": 213,
      "outputs": []
    },
    {
      "cell_type": "code",
      "metadata": {
        "id": "X6dUr72-jbuY"
      },
      "source": [
        "df_test = pd.read_csv('http://storm.cis.fordham.edu/~yli/data/testDataOne.csv') # Load a .csv file into a DataFrame object"
      ],
      "execution_count": 214,
      "outputs": []
    },
    {
      "cell_type": "markdown",
      "metadata": {
        "id": "K_LKnsAujwq0"
      },
      "source": [
        "**Problem 1:** Show the first five rows of the DataFrame table."
      ]
    },
    {
      "cell_type": "code",
      "metadata": {
        "id": "Hp6LvvHwl0QZ",
        "colab": {
          "base_uri": "https://localhost:8080/",
          "height": 204
        },
        "outputId": "5323b2f6-12c5-4582-8d78-7aa3e45d0a99"
      },
      "source": [
        "df_test.head(5)  # Show first 5 rows, head command similar to linux 'head' command"
      ],
      "execution_count": 215,
      "outputs": [
        {
          "output_type": "execute_result",
          "data": {
            "text/html": [
              "<div>\n",
              "<style scoped>\n",
              "    .dataframe tbody tr th:only-of-type {\n",
              "        vertical-align: middle;\n",
              "    }\n",
              "\n",
              "    .dataframe tbody tr th {\n",
              "        vertical-align: top;\n",
              "    }\n",
              "\n",
              "    .dataframe thead th {\n",
              "        text-align: right;\n",
              "    }\n",
              "</style>\n",
              "<table border=\"1\" class=\"dataframe\">\n",
              "  <thead>\n",
              "    <tr style=\"text-align: right;\">\n",
              "      <th></th>\n",
              "      <th>firstName</th>\n",
              "      <th>LastName</th>\n",
              "      <th>DOB</th>\n",
              "      <th>Major</th>\n",
              "      <th>tuition</th>\n",
              "      <th>Paid</th>\n",
              "    </tr>\n",
              "  </thead>\n",
              "  <tbody>\n",
              "    <tr>\n",
              "      <th>0</th>\n",
              "      <td>Lisa</td>\n",
              "      <td>AAA</td>\n",
              "      <td>1/1/2000</td>\n",
              "      <td>CS</td>\n",
              "      <td>5000.0</td>\n",
              "      <td>yes</td>\n",
              "    </tr>\n",
              "    <tr>\n",
              "      <th>1</th>\n",
              "      <td>Tom</td>\n",
              "      <td>BBB</td>\n",
              "      <td>1/1/1999</td>\n",
              "      <td>Math</td>\n",
              "      <td>12000.0</td>\n",
              "      <td>no</td>\n",
              "    </tr>\n",
              "    <tr>\n",
              "      <th>2</th>\n",
              "      <td>John</td>\n",
              "      <td>CCC</td>\n",
              "      <td>10/20/1989</td>\n",
              "      <td>Physics</td>\n",
              "      <td>15000.0</td>\n",
              "      <td>no</td>\n",
              "    </tr>\n",
              "    <tr>\n",
              "      <th>3</th>\n",
              "      <td>Matt</td>\n",
              "      <td>DDD</td>\n",
              "      <td>4/21/1989</td>\n",
              "      <td>CS</td>\n",
              "      <td>20667.0</td>\n",
              "      <td>yes</td>\n",
              "    </tr>\n",
              "    <tr>\n",
              "      <th>4</th>\n",
              "      <td>Kate</td>\n",
              "      <td>EEE</td>\n",
              "      <td>10/22/1989</td>\n",
              "      <td>Math</td>\n",
              "      <td>25667.0</td>\n",
              "      <td>no</td>\n",
              "    </tr>\n",
              "  </tbody>\n",
              "</table>\n",
              "</div>"
            ],
            "text/plain": [
              "  firstName LastName         DOB    Major  tuition Paid\n",
              "0      Lisa      AAA    1/1/2000       CS   5000.0  yes\n",
              "1       Tom      BBB    1/1/1999     Math  12000.0   no\n",
              "2      John      CCC  10/20/1989  Physics  15000.0   no\n",
              "3      Matt      DDD   4/21/1989       CS  20667.0  yes\n",
              "4      Kate      EEE  10/22/1989     Math  25667.0   no"
            ]
          },
          "metadata": {
            "tags": []
          },
          "execution_count": 215
        }
      ]
    },
    {
      "cell_type": "markdown",
      "metadata": {
        "id": "_IYs41aFkBMP"
      },
      "source": [
        "**Problem 2:** Show number of rows and columns of this table."
      ]
    },
    {
      "cell_type": "code",
      "metadata": {
        "colab": {
          "base_uri": "https://localhost:8080/"
        },
        "id": "SUGL4CFoqEuR",
        "outputId": "27115006-3e9a-46c8-d72d-e18b985cb18c"
      },
      "source": [
        "print(\"Number of rows in this table is \" + str(df_test.shape[0])) # shape returns two values\n",
        "print(\"Number of columns in this table is \" + str(df_test.shape[1]))"
      ],
      "execution_count": 216,
      "outputs": [
        {
          "output_type": "stream",
          "text": [
            "Number of rows in this table is 32\n",
            "Number of columns in this table is 6\n"
          ],
          "name": "stdout"
        }
      ]
    },
    {
      "cell_type": "markdown",
      "metadata": {
        "id": "sM4o0DPukFqk"
      },
      "source": [
        "**Problem 3:** Show all column names."
      ]
    },
    {
      "cell_type": "code",
      "metadata": {
        "colab": {
          "base_uri": "https://localhost:8080/"
        },
        "id": "P4VNvpH9r3RX",
        "outputId": "a2840226-8735-4abf-97aa-ad5107275e06"
      },
      "source": [
        "print(df_test.columns.values)"
      ],
      "execution_count": 217,
      "outputs": [
        {
          "output_type": "stream",
          "text": [
            "['firstName' 'LastName' 'DOB' 'Major' 'tuition' 'Paid']\n"
          ],
          "name": "stdout"
        }
      ]
    },
    {
      "cell_type": "markdown",
      "metadata": {
        "id": "W9FgAzgjkOgz"
      },
      "source": [
        "**Problem 4:** Set the name of the index of the table as 'FIDN', which starts from 1."
      ]
    },
    {
      "cell_type": "code",
      "metadata": {
        "colab": {
          "base_uri": "https://localhost:8080/",
          "height": 35
        },
        "id": "d3vJ2h2svdZF",
        "outputId": "ffa17554-625b-47a7-8763-a90127c8582d"
      },
      "source": [
        "df_test.index.name = 'FIDN'  # Name of index of df_test\n",
        "df_test.index +=1    # Start table index at 1\n",
        "df_test.index.name  # Just print it as well to show it worked"
      ],
      "execution_count": 218,
      "outputs": [
        {
          "output_type": "execute_result",
          "data": {
            "application/vnd.google.colaboratory.intrinsic+json": {
              "type": "string"
            },
            "text/plain": [
              "'FIDN'"
            ]
          },
          "metadata": {
            "tags": []
          },
          "execution_count": 218
        }
      ]
    },
    {
      "cell_type": "markdown",
      "metadata": {
        "id": "NlSz7CR5kdY6"
      },
      "source": [
        "**Problem 5:** Find all students who majored in CS, how many of them are there?"
      ]
    },
    {
      "cell_type": "code",
      "metadata": {
        "colab": {
          "base_uri": "https://localhost:8080/"
        },
        "id": "0Vt_tS7-xEM-",
        "outputId": "df04620b-3edf-491c-c190-d4b1bbf4583b"
      },
      "source": [
        "df_test[df_test.Major==\"CS\"].shape[0]   # Use shape function to get number of rows which is a student each"
      ],
      "execution_count": 219,
      "outputs": [
        {
          "output_type": "execute_result",
          "data": {
            "text/plain": [
              "11"
            ]
          },
          "metadata": {
            "tags": []
          },
          "execution_count": 219
        }
      ]
    },
    {
      "cell_type": "markdown",
      "metadata": {
        "id": "nNasdZ1Cki8A"
      },
      "source": [
        "**Problem 6:** Find all the students who have not paid tuition, how many of them? (Results should include unknown)"
      ]
    },
    {
      "cell_type": "code",
      "metadata": {
        "colab": {
          "base_uri": "https://localhost:8080/"
        },
        "id": "5ywQ3kBs0jun",
        "outputId": "7c2be372-1732-4c13-a6e0-cdb2a24b6f9d"
      },
      "source": [
        "print(df_test[df_test.Paid!=\"yes\"].shape[0])    # Anything that does not equal yes is 'NaN' or 'no'"
      ],
      "execution_count": 220,
      "outputs": [
        {
          "output_type": "stream",
          "text": [
            "21\n"
          ],
          "name": "stdout"
        }
      ]
    },
    {
      "cell_type": "markdown",
      "metadata": {
        "id": "8NCAcg4Dk9mJ"
      },
      "source": [
        "**Problem 7:** Find all students who are CS and have not paid tuition. (The intersection of two index objects could be found by & operation)"
      ]
    },
    {
      "cell_type": "code",
      "metadata": {
        "colab": {
          "base_uri": "https://localhost:8080/"
        },
        "id": "VcwIWoOA12zJ",
        "outputId": "ed84ccfb-759c-4489-c107-2de094f735b8"
      },
      "source": [
        "# & operator works like var1.index & var2.index (Intersection)\n",
        "csAndUnpaid = (df_test[df_test.Major==\"CS\"].index & df_test[df_test.Paid!=\"yes\"].index).values    # Just FIDNs, we want names too\n",
        "def getLocation(location):    # Index to name\n",
        "  return str(\"Name: \" + df_test.loc[location].firstName + \" \" + df_test.loc[location].LastName + \" - FIDN: \" + str(location))  # First and last name as one string\n",
        "changed = map(getLocation, csAndUnpaid)   # Map val to func\n",
        "print(\"\\n\".join(list(changed)))    # Print names and FIDNs as list with newlines for each student"
      ],
      "execution_count": 222,
      "outputs": [
        {
          "output_type": "stream",
          "text": [
            "Name: z CFEA - FIDN: 18\n",
            "Name: z RTDH - FIDN: 21\n",
            "Name: w RTR - FIDN: 24\n",
            "Name: Tom VBV - FIDN: 27\n",
            "Name: i FFF - FIDN: 30\n"
          ],
          "name": "stdout"
        }
      ]
    },
    {
      "cell_type": "markdown",
      "metadata": {
        "id": "_qf7hB8xlR11"
      },
      "source": [
        "**Problem 8:** Find students with FIDN 10 to 20."
      ]
    },
    {
      "cell_type": "code",
      "metadata": {
        "colab": {
          "base_uri": "https://localhost:8080/",
          "height": 421
        },
        "id": "ED4qtBJ7FPWg",
        "outputId": "45e1be9a-2d92-4cb7-cd1b-050a8813366a"
      },
      "source": [
        "df_test[9:20]  # Destination-1 to get just destination because index reset to 1 (\"From 9 (not included) to 20\")"
      ],
      "execution_count": 223,
      "outputs": [
        {
          "output_type": "execute_result",
          "data": {
            "text/html": [
              "<div>\n",
              "<style scoped>\n",
              "    .dataframe tbody tr th:only-of-type {\n",
              "        vertical-align: middle;\n",
              "    }\n",
              "\n",
              "    .dataframe tbody tr th {\n",
              "        vertical-align: top;\n",
              "    }\n",
              "\n",
              "    .dataframe thead th {\n",
              "        text-align: right;\n",
              "    }\n",
              "</style>\n",
              "<table border=\"1\" class=\"dataframe\">\n",
              "  <thead>\n",
              "    <tr style=\"text-align: right;\">\n",
              "      <th></th>\n",
              "      <th>firstName</th>\n",
              "      <th>LastName</th>\n",
              "      <th>DOB</th>\n",
              "      <th>Major</th>\n",
              "      <th>tuition</th>\n",
              "      <th>Paid</th>\n",
              "    </tr>\n",
              "    <tr>\n",
              "      <th>FIDN</th>\n",
              "      <th></th>\n",
              "      <th></th>\n",
              "      <th></th>\n",
              "      <th></th>\n",
              "      <th></th>\n",
              "      <th></th>\n",
              "    </tr>\n",
              "  </thead>\n",
              "  <tbody>\n",
              "    <tr>\n",
              "      <th>10</th>\n",
              "      <td>d</td>\n",
              "      <td>EEE</td>\n",
              "      <td>10/27/1989</td>\n",
              "      <td>CS</td>\n",
              "      <td>50667.0</td>\n",
              "      <td>yes</td>\n",
              "    </tr>\n",
              "    <tr>\n",
              "      <th>11</th>\n",
              "      <td>y</td>\n",
              "      <td>FFF</td>\n",
              "      <td>10/28/1989</td>\n",
              "      <td>Math</td>\n",
              "      <td>55667.0</td>\n",
              "      <td>no</td>\n",
              "    </tr>\n",
              "    <tr>\n",
              "      <th>12</th>\n",
              "      <td>y</td>\n",
              "      <td>HHH</td>\n",
              "      <td>10/29/1989</td>\n",
              "      <td>Physics</td>\n",
              "      <td>60667.0</td>\n",
              "      <td>no</td>\n",
              "    </tr>\n",
              "    <tr>\n",
              "      <th>13</th>\n",
              "      <td>c</td>\n",
              "      <td>GGG</td>\n",
              "      <td>10/30/1989</td>\n",
              "      <td>CS</td>\n",
              "      <td>65667.0</td>\n",
              "      <td>yes</td>\n",
              "    </tr>\n",
              "    <tr>\n",
              "      <th>14</th>\n",
              "      <td>y</td>\n",
              "      <td>JJK</td>\n",
              "      <td>10/31/1989</td>\n",
              "      <td>Math</td>\n",
              "      <td>70667.0</td>\n",
              "      <td>no</td>\n",
              "    </tr>\n",
              "    <tr>\n",
              "      <th>15</th>\n",
              "      <td>y</td>\n",
              "      <td>DFDF</td>\n",
              "      <td>11/1/1989</td>\n",
              "      <td>Physics</td>\n",
              "      <td>75667.0</td>\n",
              "      <td>no</td>\n",
              "    </tr>\n",
              "    <tr>\n",
              "      <th>16</th>\n",
              "      <td>y</td>\n",
              "      <td>DRE</td>\n",
              "      <td>11/2/1989</td>\n",
              "      <td>CS</td>\n",
              "      <td>80667.0</td>\n",
              "      <td>yes</td>\n",
              "    </tr>\n",
              "    <tr>\n",
              "      <th>17</th>\n",
              "      <td>z</td>\n",
              "      <td>CF</td>\n",
              "      <td>11/3/1989</td>\n",
              "      <td>Math</td>\n",
              "      <td>85667.0</td>\n",
              "      <td>yes</td>\n",
              "    </tr>\n",
              "    <tr>\n",
              "      <th>18</th>\n",
              "      <td>z</td>\n",
              "      <td>CFEA</td>\n",
              "      <td>12/4/1989</td>\n",
              "      <td>CS</td>\n",
              "      <td>90667.0</td>\n",
              "      <td>no</td>\n",
              "    </tr>\n",
              "    <tr>\n",
              "      <th>19</th>\n",
              "      <td>zz</td>\n",
              "      <td>YRY</td>\n",
              "      <td>1/5/1989</td>\n",
              "      <td>Math</td>\n",
              "      <td>95667.0</td>\n",
              "      <td>no</td>\n",
              "    </tr>\n",
              "    <tr>\n",
              "      <th>20</th>\n",
              "      <td>z</td>\n",
              "      <td>JGKJHK</td>\n",
              "      <td>11/6/1989</td>\n",
              "      <td>Physics</td>\n",
              "      <td>100667.0</td>\n",
              "      <td>yes</td>\n",
              "    </tr>\n",
              "  </tbody>\n",
              "</table>\n",
              "</div>"
            ],
            "text/plain": [
              "     firstName LastName         DOB    Major   tuition Paid\n",
              "FIDN                                                       \n",
              "10           d      EEE  10/27/1989       CS   50667.0  yes\n",
              "11           y      FFF  10/28/1989     Math   55667.0   no\n",
              "12           y      HHH  10/29/1989  Physics   60667.0   no\n",
              "13           c      GGG  10/30/1989       CS   65667.0  yes\n",
              "14           y      JJK  10/31/1989     Math   70667.0   no\n",
              "15           y     DFDF   11/1/1989  Physics   75667.0   no\n",
              "16           y      DRE   11/2/1989       CS   80667.0  yes\n",
              "17           z       CF   11/3/1989     Math   85667.0  yes\n",
              "18           z     CFEA   12/4/1989       CS   90667.0   no\n",
              "19          zz      YRY    1/5/1989     Math   95667.0   no\n",
              "20           z   JGKJHK   11/6/1989  Physics  100667.0  yes"
            ]
          },
          "metadata": {
            "tags": []
          },
          "execution_count": 223
        }
      ]
    },
    {
      "cell_type": "markdown",
      "metadata": {
        "id": "_2GmR_XVleLs"
      },
      "source": [
        "**Problem 9:** Find the major of the student whose FIDN is 30."
      ]
    },
    {
      "cell_type": "code",
      "metadata": {
        "colab": {
          "base_uri": "https://localhost:8080/"
        },
        "id": "lg-dIGhvFqOT",
        "outputId": "e252351c-ddcf-4319-c8bc-6c3712d87df3"
      },
      "source": [
        "print(df_test.loc[30].Major)    # Use .loc to use exact index"
      ],
      "execution_count": 224,
      "outputs": [
        {
          "output_type": "stream",
          "text": [
            "CS\n"
          ],
          "name": "stdout"
        }
      ]
    },
    {
      "cell_type": "markdown",
      "metadata": {
        "id": "KFHGpSMnloeG"
      },
      "source": [
        "**Problem 10:** Sort all students by their last name, then by their tuition amount."
      ]
    },
    {
      "cell_type": "code",
      "metadata": {
        "colab": {
          "base_uri": "https://localhost:8080/",
          "height": 1000
        },
        "id": "x187gW_5GqSY",
        "outputId": "59fad1c1-da83-4cf3-be90-c10d31a2e1b4"
      },
      "source": [
        "# Sorts through LastName and then tuition amount, if same name, uses tuition to decide which comes first\n",
        "df_test.sort_values(by=['LastName', 'tuition'])"
      ],
      "execution_count": 225,
      "outputs": [
        {
          "output_type": "execute_result",
          "data": {
            "text/html": [
              "<div>\n",
              "<style scoped>\n",
              "    .dataframe tbody tr th:only-of-type {\n",
              "        vertical-align: middle;\n",
              "    }\n",
              "\n",
              "    .dataframe tbody tr th {\n",
              "        vertical-align: top;\n",
              "    }\n",
              "\n",
              "    .dataframe thead th {\n",
              "        text-align: right;\n",
              "    }\n",
              "</style>\n",
              "<table border=\"1\" class=\"dataframe\">\n",
              "  <thead>\n",
              "    <tr style=\"text-align: right;\">\n",
              "      <th></th>\n",
              "      <th>firstName</th>\n",
              "      <th>LastName</th>\n",
              "      <th>DOB</th>\n",
              "      <th>Major</th>\n",
              "      <th>tuition</th>\n",
              "      <th>Paid</th>\n",
              "    </tr>\n",
              "    <tr>\n",
              "      <th>FIDN</th>\n",
              "      <th></th>\n",
              "      <th></th>\n",
              "      <th></th>\n",
              "      <th></th>\n",
              "      <th></th>\n",
              "      <th></th>\n",
              "    </tr>\n",
              "  </thead>\n",
              "  <tbody>\n",
              "    <tr>\n",
              "      <th>1</th>\n",
              "      <td>Lisa</td>\n",
              "      <td>AAA</td>\n",
              "      <td>1/1/2000</td>\n",
              "      <td>CS</td>\n",
              "      <td>5000.0</td>\n",
              "      <td>yes</td>\n",
              "    </tr>\n",
              "    <tr>\n",
              "      <th>6</th>\n",
              "      <td>Bill</td>\n",
              "      <td>AAA</td>\n",
              "      <td>10/23/1989</td>\n",
              "      <td>Physics</td>\n",
              "      <td>30667.0</td>\n",
              "      <td>no</td>\n",
              "    </tr>\n",
              "    <tr>\n",
              "      <th>2</th>\n",
              "      <td>Tom</td>\n",
              "      <td>BBB</td>\n",
              "      <td>1/1/1999</td>\n",
              "      <td>Math</td>\n",
              "      <td>12000.0</td>\n",
              "      <td>no</td>\n",
              "    </tr>\n",
              "    <tr>\n",
              "      <th>7</th>\n",
              "      <td>A</td>\n",
              "      <td>BBB</td>\n",
              "      <td>10/24/1989</td>\n",
              "      <td>CS</td>\n",
              "      <td>35667.0</td>\n",
              "      <td>yes</td>\n",
              "    </tr>\n",
              "    <tr>\n",
              "      <th>3</th>\n",
              "      <td>John</td>\n",
              "      <td>CCC</td>\n",
              "      <td>10/20/1989</td>\n",
              "      <td>Physics</td>\n",
              "      <td>15000.0</td>\n",
              "      <td>no</td>\n",
              "    </tr>\n",
              "    <tr>\n",
              "      <th>8</th>\n",
              "      <td>B</td>\n",
              "      <td>CCC</td>\n",
              "      <td>1/25/1989</td>\n",
              "      <td>Math</td>\n",
              "      <td>40667.0</td>\n",
              "      <td>no</td>\n",
              "    </tr>\n",
              "    <tr>\n",
              "      <th>17</th>\n",
              "      <td>z</td>\n",
              "      <td>CF</td>\n",
              "      <td>11/3/1989</td>\n",
              "      <td>Math</td>\n",
              "      <td>85667.0</td>\n",
              "      <td>yes</td>\n",
              "    </tr>\n",
              "    <tr>\n",
              "      <th>18</th>\n",
              "      <td>z</td>\n",
              "      <td>CFEA</td>\n",
              "      <td>12/4/1989</td>\n",
              "      <td>CS</td>\n",
              "      <td>90667.0</td>\n",
              "      <td>no</td>\n",
              "    </tr>\n",
              "    <tr>\n",
              "      <th>4</th>\n",
              "      <td>Matt</td>\n",
              "      <td>DDD</td>\n",
              "      <td>4/21/1989</td>\n",
              "      <td>CS</td>\n",
              "      <td>20667.0</td>\n",
              "      <td>yes</td>\n",
              "    </tr>\n",
              "    <tr>\n",
              "      <th>9</th>\n",
              "      <td>c</td>\n",
              "      <td>DDD</td>\n",
              "      <td>3/26/1989</td>\n",
              "      <td>Physics</td>\n",
              "      <td>45667.0</td>\n",
              "      <td>no</td>\n",
              "    </tr>\n",
              "    <tr>\n",
              "      <th>15</th>\n",
              "      <td>y</td>\n",
              "      <td>DFDF</td>\n",
              "      <td>11/1/1989</td>\n",
              "      <td>Physics</td>\n",
              "      <td>75667.0</td>\n",
              "      <td>no</td>\n",
              "    </tr>\n",
              "    <tr>\n",
              "      <th>32</th>\n",
              "      <td>iy</td>\n",
              "      <td>DGK</td>\n",
              "      <td>11/18/1989</td>\n",
              "      <td>Physics</td>\n",
              "      <td>160667.0</td>\n",
              "      <td>yes</td>\n",
              "    </tr>\n",
              "    <tr>\n",
              "      <th>16</th>\n",
              "      <td>y</td>\n",
              "      <td>DRE</td>\n",
              "      <td>11/2/1989</td>\n",
              "      <td>CS</td>\n",
              "      <td>80667.0</td>\n",
              "      <td>yes</td>\n",
              "    </tr>\n",
              "    <tr>\n",
              "      <th>5</th>\n",
              "      <td>Kate</td>\n",
              "      <td>EEE</td>\n",
              "      <td>10/22/1989</td>\n",
              "      <td>Math</td>\n",
              "      <td>25667.0</td>\n",
              "      <td>no</td>\n",
              "    </tr>\n",
              "    <tr>\n",
              "      <th>10</th>\n",
              "      <td>d</td>\n",
              "      <td>EEE</td>\n",
              "      <td>10/27/1989</td>\n",
              "      <td>CS</td>\n",
              "      <td>50667.0</td>\n",
              "      <td>yes</td>\n",
              "    </tr>\n",
              "    <tr>\n",
              "      <th>11</th>\n",
              "      <td>y</td>\n",
              "      <td>FFF</td>\n",
              "      <td>10/28/1989</td>\n",
              "      <td>Math</td>\n",
              "      <td>55667.0</td>\n",
              "      <td>no</td>\n",
              "    </tr>\n",
              "    <tr>\n",
              "      <th>30</th>\n",
              "      <td>i</td>\n",
              "      <td>FFF</td>\n",
              "      <td>11/16/1989</td>\n",
              "      <td>CS</td>\n",
              "      <td>150667.0</td>\n",
              "      <td>NaN</td>\n",
              "    </tr>\n",
              "    <tr>\n",
              "      <th>28</th>\n",
              "      <td>y</td>\n",
              "      <td>FGSER</td>\n",
              "      <td>11/2/1989</td>\n",
              "      <td>Math</td>\n",
              "      <td>140667.0</td>\n",
              "      <td>NaN</td>\n",
              "    </tr>\n",
              "    <tr>\n",
              "      <th>26</th>\n",
              "      <td>r</td>\n",
              "      <td>FGSFH</td>\n",
              "      <td>11/21/1989</td>\n",
              "      <td>Physics</td>\n",
              "      <td>130667.0</td>\n",
              "      <td>yes</td>\n",
              "    </tr>\n",
              "    <tr>\n",
              "      <th>22</th>\n",
              "      <td>zz</td>\n",
              "      <td>FHSF</td>\n",
              "      <td>11/8/1990</td>\n",
              "      <td>Math</td>\n",
              "      <td>110667.0</td>\n",
              "      <td>no</td>\n",
              "    </tr>\n",
              "    <tr>\n",
              "      <th>13</th>\n",
              "      <td>c</td>\n",
              "      <td>GGG</td>\n",
              "      <td>10/30/1989</td>\n",
              "      <td>CS</td>\n",
              "      <td>65667.0</td>\n",
              "      <td>yes</td>\n",
              "    </tr>\n",
              "    <tr>\n",
              "      <th>23</th>\n",
              "      <td>zq</td>\n",
              "      <td>GHGJD</td>\n",
              "      <td>11/9/1989</td>\n",
              "      <td>Physics</td>\n",
              "      <td>115667.0</td>\n",
              "      <td>yes</td>\n",
              "    </tr>\n",
              "    <tr>\n",
              "      <th>12</th>\n",
              "      <td>y</td>\n",
              "      <td>HHH</td>\n",
              "      <td>10/29/1989</td>\n",
              "      <td>Physics</td>\n",
              "      <td>60667.0</td>\n",
              "      <td>no</td>\n",
              "    </tr>\n",
              "    <tr>\n",
              "      <th>20</th>\n",
              "      <td>z</td>\n",
              "      <td>JGKJHK</td>\n",
              "      <td>11/6/1989</td>\n",
              "      <td>Physics</td>\n",
              "      <td>100667.0</td>\n",
              "      <td>yes</td>\n",
              "    </tr>\n",
              "    <tr>\n",
              "      <th>14</th>\n",
              "      <td>y</td>\n",
              "      <td>JJK</td>\n",
              "      <td>10/31/1989</td>\n",
              "      <td>Math</td>\n",
              "      <td>70667.0</td>\n",
              "      <td>no</td>\n",
              "    </tr>\n",
              "    <tr>\n",
              "      <th>29</th>\n",
              "      <td>u</td>\n",
              "      <td>OPK</td>\n",
              "      <td>11/15/1989</td>\n",
              "      <td>Physics</td>\n",
              "      <td>145667.0</td>\n",
              "      <td>NaN</td>\n",
              "    </tr>\n",
              "    <tr>\n",
              "      <th>21</th>\n",
              "      <td>z</td>\n",
              "      <td>RTDH</td>\n",
              "      <td>10/7/1989</td>\n",
              "      <td>CS</td>\n",
              "      <td>105667.0</td>\n",
              "      <td>no</td>\n",
              "    </tr>\n",
              "    <tr>\n",
              "      <th>24</th>\n",
              "      <td>w</td>\n",
              "      <td>RTR</td>\n",
              "      <td>11/10/1989</td>\n",
              "      <td>CS</td>\n",
              "      <td>120667.0</td>\n",
              "      <td>no</td>\n",
              "    </tr>\n",
              "    <tr>\n",
              "      <th>25</th>\n",
              "      <td>e</td>\n",
              "      <td>VBV</td>\n",
              "      <td>1/11/1989</td>\n",
              "      <td>Math</td>\n",
              "      <td>125667.0</td>\n",
              "      <td>no</td>\n",
              "    </tr>\n",
              "    <tr>\n",
              "      <th>27</th>\n",
              "      <td>Tom</td>\n",
              "      <td>VBV</td>\n",
              "      <td>11/13/1989</td>\n",
              "      <td>CS</td>\n",
              "      <td>135667.0</td>\n",
              "      <td>NaN</td>\n",
              "    </tr>\n",
              "    <tr>\n",
              "      <th>31</th>\n",
              "      <td>d</td>\n",
              "      <td>WWA</td>\n",
              "      <td>1/17/1989</td>\n",
              "      <td>Math</td>\n",
              "      <td>155667.0</td>\n",
              "      <td>no</td>\n",
              "    </tr>\n",
              "    <tr>\n",
              "      <th>19</th>\n",
              "      <td>zz</td>\n",
              "      <td>YRY</td>\n",
              "      <td>1/5/1989</td>\n",
              "      <td>Math</td>\n",
              "      <td>95667.0</td>\n",
              "      <td>no</td>\n",
              "    </tr>\n",
              "  </tbody>\n",
              "</table>\n",
              "</div>"
            ],
            "text/plain": [
              "     firstName LastName         DOB    Major   tuition Paid\n",
              "FIDN                                                       \n",
              "1         Lisa      AAA    1/1/2000       CS    5000.0  yes\n",
              "6         Bill      AAA  10/23/1989  Physics   30667.0   no\n",
              "2          Tom      BBB    1/1/1999     Math   12000.0   no\n",
              "7            A      BBB  10/24/1989       CS   35667.0  yes\n",
              "3         John      CCC  10/20/1989  Physics   15000.0   no\n",
              "8           B       CCC   1/25/1989     Math   40667.0   no\n",
              "17           z       CF   11/3/1989     Math   85667.0  yes\n",
              "18           z     CFEA   12/4/1989       CS   90667.0   no\n",
              "4         Matt      DDD   4/21/1989       CS   20667.0  yes\n",
              "9            c      DDD   3/26/1989  Physics   45667.0   no\n",
              "15           y     DFDF   11/1/1989  Physics   75667.0   no\n",
              "32          iy      DGK  11/18/1989  Physics  160667.0  yes\n",
              "16           y      DRE   11/2/1989       CS   80667.0  yes\n",
              "5         Kate      EEE  10/22/1989     Math   25667.0   no\n",
              "10           d      EEE  10/27/1989       CS   50667.0  yes\n",
              "11           y      FFF  10/28/1989     Math   55667.0   no\n",
              "30           i      FFF  11/16/1989       CS  150667.0  NaN\n",
              "28           y    FGSER   11/2/1989     Math  140667.0  NaN\n",
              "26           r    FGSFH  11/21/1989  Physics  130667.0  yes\n",
              "22          zz     FHSF   11/8/1990     Math  110667.0   no\n",
              "13           c      GGG  10/30/1989       CS   65667.0  yes\n",
              "23          zq    GHGJD   11/9/1989  Physics  115667.0  yes\n",
              "12           y      HHH  10/29/1989  Physics   60667.0   no\n",
              "20           z   JGKJHK   11/6/1989  Physics  100667.0  yes\n",
              "14           y      JJK  10/31/1989     Math   70667.0   no\n",
              "29           u      OPK  11/15/1989  Physics  145667.0  NaN\n",
              "21           z     RTDH   10/7/1989       CS  105667.0   no\n",
              "24           w      RTR  11/10/1989       CS  120667.0   no\n",
              "25           e      VBV   1/11/1989     Math  125667.0   no\n",
              "27         Tom      VBV  11/13/1989       CS  135667.0  NaN\n",
              "31           d      WWA   1/17/1989     Math  155667.0   no\n",
              "19          zz      YRY    1/5/1989     Math   95667.0   no"
            ]
          },
          "metadata": {
            "tags": []
          },
          "execution_count": 225
        }
      ]
    }
  ]
}