{
  "nbformat": 4,
  "nbformat_minor": 0,
  "metadata": {
    "colab": {
      "name": "Homework_One_KyleTimmermans.ipynb",
      "provenance": [],
      "collapsed_sections": []
    },
    "kernelspec": {
      "name": "python3",
      "display_name": "Python 3"
    }
  },
  "cells": [
    {
      "cell_type": "markdown",
      "metadata": {
        "id": "SPojl-qRh4ne"
      },
      "source": [
        "Kyle Timmermans - Dr. Li - Homework #1 - 2/28/21\n"
      ]
    },
    {
      "cell_type": "code",
      "metadata": {
        "id": "66jUIk5Ri8EG"
      },
      "source": [
        "import numpy as np    # Need to import numpy"
      ],
      "execution_count": 5,
      "outputs": []
    },
    {
      "cell_type": "markdown",
      "metadata": {
        "id": "kJucRJkgiFCX"
      },
      "source": [
        "Question 1: Create a one-dimensional array, A1, with 20 random integers between -10 and 10"
      ]
    },
    {
      "cell_type": "code",
      "metadata": {
        "colab": {
          "base_uri": "https://localhost:8080/"
        },
        "id": "Z3egFXf3iYZc",
        "outputId": "67698a7d-04e4-4bb6-e775-caebc62424bc"
      },
      "source": [
        "A1 = np.random.randint(-10, high=10, size=20)   # (Lowest, highest, num of elements)\n",
        "print(A1)   # Print result"
      ],
      "execution_count": 72,
      "outputs": [
        {
          "output_type": "stream",
          "text": [
            "[ 0  7  8  6  2 -3 -7 -1  8 -2 -9  3 -2 -8 -3 -3  3 -7 -2 -4]\n"
          ],
          "name": "stdout"
        }
      ]
    },
    {
      "cell_type": "markdown",
      "metadata": {
        "id": "lB8dFEB0jp-L"
      },
      "source": [
        "Question 1-1: Increase all of them by 2"
      ]
    },
    {
      "cell_type": "code",
      "metadata": {
        "colab": {
          "base_uri": "https://localhost:8080/"
        },
        "id": "HYxWpcwnkO9D",
        "outputId": "8e49df03-8ede-450b-c617-6dc00f49d61e"
      },
      "source": [
        "A1 = A1 + 2   # A1 + 2 adds two to each element\n",
        "print(A1)   # Print result"
      ],
      "execution_count": 73,
      "outputs": [
        {
          "output_type": "stream",
          "text": [
            "[ 2  9 10  8  4 -1 -5  1 10  0 -7  5  0 -6 -1 -1  5 -5  0 -2]\n"
          ],
          "name": "stdout"
        }
      ]
    },
    {
      "cell_type": "markdown",
      "metadata": {
        "id": "TQQ40C7wkbZ6"
      },
      "source": [
        "Question 1-2: Show the last 5 elements"
      ]
    },
    {
      "cell_type": "code",
      "metadata": {
        "colab": {
          "base_uri": "https://localhost:8080/"
        },
        "id": "8GfVsTuJkg02",
        "outputId": "e4b25ab6-7dd0-4b68-e5ed-494598f9b2da"
      },
      "source": [
        "print(A1[-5:])    # Slice with -5 being the last 5 elements (-5 from end, to end)"
      ],
      "execution_count": 74,
      "outputs": [
        {
          "output_type": "stream",
          "text": [
            "[-1  5 -5  0 -2]\n"
          ],
          "name": "stdout"
        }
      ]
    },
    {
      "cell_type": "markdown",
      "metadata": {
        "id": "NPaZZJaelk_Z"
      },
      "source": [
        "Question 2: Create a 5 by 4 dimensional array, A2, with 20 random integers less than 10"
      ]
    },
    {
      "cell_type": "code",
      "metadata": {
        "colab": {
          "base_uri": "https://localhost:8080/"
        },
        "id": "Apf5knmmmFtY",
        "outputId": "f2842b18-a33e-41ea-c5c8-e2280208e611"
      },
      "source": [
        "A2 = (np.random.randint(10, size=20)).reshape(5,4)    # Reshape used to change dimensions of 2D array\n",
        "print(A2)   # Print results"
      ],
      "execution_count": 75,
      "outputs": [
        {
          "output_type": "stream",
          "text": [
            "[[9 4 8 1]\n",
            " [8 1 7 2]\n",
            " [3 5 3 3]\n",
            " [4 4 2 5]\n",
            " [3 1 6 7]]\n"
          ],
          "name": "stdout"
        }
      ]
    },
    {
      "cell_type": "markdown",
      "metadata": {
        "id": "Z2E6z69OnRzD"
      },
      "source": [
        "Question 2-1: Show only the 1st, 3rd columns.\n",
        "\n",
        "*Not sure if that means 1 THROUGH 3 or 1 AND 3, did both just in case*"
      ]
    },
    {
      "cell_type": "code",
      "metadata": {
        "colab": {
          "base_uri": "https://localhost:8080/"
        },
        "id": "ZtRwGHP0wtu7",
        "outputId": "186bb7fa-6ec6-487c-d2c8-03750878b14a"
      },
      "source": [
        "print(A2[:, 0:3])   # 1st column THROUGH 3rd column"
      ],
      "execution_count": 76,
      "outputs": [
        {
          "output_type": "stream",
          "text": [
            "[[9 4 8]\n",
            " [8 1 7]\n",
            " [3 5 3]\n",
            " [4 4 2]\n",
            " [3 1 6]]\n"
          ],
          "name": "stdout"
        }
      ]
    },
    {
      "cell_type": "code",
      "metadata": {
        "colab": {
          "base_uri": "https://localhost:8080/"
        },
        "id": "xTY93OEPnkst",
        "outputId": "7b4c3fc5-e572-48f4-9109-183fe3dd30aa"
      },
      "source": [
        "print(A2[:, [0,2]])   # 1st column AND 3rd column"
      ],
      "execution_count": 77,
      "outputs": [
        {
          "output_type": "stream",
          "text": [
            "[[9 8]\n",
            " [8 7]\n",
            " [3 3]\n",
            " [4 2]\n",
            " [3 6]]\n"
          ],
          "name": "stdout"
        }
      ]
    },
    {
      "cell_type": "markdown",
      "metadata": {
        "id": "2W78pAHcqQLB"
      },
      "source": [
        "Question 2-2: Get the last two columns of the first two rows."
      ]
    },
    {
      "cell_type": "code",
      "metadata": {
        "colab": {
          "base_uri": "https://localhost:8080/"
        },
        "id": "TtY9Xk0FqY-C",
        "outputId": "fa5ad334-6ad2-45ff-d911-7b1c98671851"
      },
      "source": [
        "print(A2[:2, 2:4])   # Need top-right 4"
      ],
      "execution_count": 78,
      "outputs": [
        {
          "output_type": "stream",
          "text": [
            "[[8 1]\n",
            " [7 2]]\n"
          ],
          "name": "stdout"
        }
      ]
    },
    {
      "cell_type": "markdown",
      "metadata": {
        "id": "BkAYGrZGsieh"
      },
      "source": [
        "Question 2-3: Check whether the first element of A1 is in A2."
      ]
    },
    {
      "cell_type": "code",
      "metadata": {
        "colab": {
          "base_uri": "https://localhost:8080/"
        },
        "id": "f7hB4Iv0sxzk",
        "outputId": "7f474a72-10a6-466b-97ac-e67ec8c6e09c"
      },
      "source": [
        "firstIndexOfA1 = A1[0]   # Without using if statement\n",
        "A2ToBoolean = np.array(A2)\n",
        "print(\"Does A2 contain the first index of A1? Yes, looking at the table below, A1[0] shows up twice in A2\")\n",
        "print(str(A2ToBoolean == firstIndexOfA1))  # Get boolean values and check if A1[0] is contained in A2\n"
      ],
      "execution_count": 90,
      "outputs": [
        {
          "output_type": "stream",
          "text": [
            "Does A2 contain the first index of A1? Yes, looking at the table below, A1[0] shows up twice in A2\n",
            "[[False False False False]\n",
            " [False False False  True]\n",
            " [False False False False]\n",
            " [False False  True False]\n",
            " [False False False False]]\n"
          ],
          "name": "stdout"
        }
      ]
    },
    {
      "cell_type": "markdown",
      "metadata": {
        "id": "569-hlc9tqg_"
      },
      "source": [
        "Question 2-4: Reshape the first array you created to the same shape as this one, compare the two arrays element-wise maximum. "
      ]
    },
    {
      "cell_type": "code",
      "metadata": {
        "colab": {
          "base_uri": "https://localhost:8080/"
        },
        "id": "2Ixnru7-uE0r",
        "outputId": "14856d3b-2bc1-47c4-f223-e48f52bbaf67"
      },
      "source": [
        "A1 = A1.reshape(5,4)    # Reshape A1 to same as A2\n",
        "print(np.maximum(A1,A2))    # element-wise comparison using np.maximum()"
      ],
      "execution_count": 92,
      "outputs": [
        {
          "output_type": "stream",
          "text": [
            "[[ 9  9 10  8]\n",
            " [ 8  1  7  2]\n",
            " [10  5  3  5]\n",
            " [ 4  4  2  5]\n",
            " [ 5  1  6  7]]\n"
          ],
          "name": "stdout"
        }
      ]
    },
    {
      "cell_type": "markdown",
      "metadata": {
        "id": "qb8A7c19wNpQ"
      },
      "source": [
        "Question 2-5: If the element in A1's first column is positive, show elements in A2 as the same row as that element."
      ]
    },
    {
      "cell_type": "code",
      "metadata": {
        "colab": {
          "base_uri": "https://localhost:8080/"
        },
        "id": "-J02WueBxNoj",
        "outputId": "6a07c8bb-06be-4b67-e9ed-ae8c9dff657f"
      },
      "source": [
        "FirstColumnOfA1 = np.where(A1[:,0] >= 0)   # Find all values greater than or equal to 0 (not-negative) in A1's first column\n",
        "A1ToA2 = A2[FirstColumnOfA1, 0]   # Get corresponding A2 element (matching A1 position to A2 position)\n",
        "print(\"A1 Array:\")\n",
        "print(A1)\n",
        "print(\"A2 Array:\")\n",
        "print(A2)\n",
        "print(\"Final output: \")   # Print all of A2 column 1 because there are no negatives in A1 column 1\n",
        "print(np.squeeze(A1ToA2))  # Show only the A2 values\n"
      ],
      "execution_count": 99,
      "outputs": [
        {
          "output_type": "stream",
          "text": [
            "A1 Array:\n",
            "[[ 2  9 10  8]\n",
            " [ 4 -1 -5  1]\n",
            " [10  0 -7  5]\n",
            " [ 0 -6 -1 -1]\n",
            " [ 5 -5  0 -2]]\n",
            "A2 Array:\n",
            "[[9 4 8 1]\n",
            " [8 1 7 2]\n",
            " [3 5 3 3]\n",
            " [4 4 2 5]\n",
            " [3 1 6 7]]\n",
            "Final output: \n",
            "[9 8 3 4 3]\n"
          ],
          "name": "stdout"
        }
      ]
    }
  ]
}