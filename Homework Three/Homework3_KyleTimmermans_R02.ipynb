{
  "nbformat": 4,
  "nbformat_minor": 0,
  "metadata": {
    "colab": {
      "name": "Homework3_KyleTimmermans_R02.ipynb",
      "provenance": [],
      "collapsed_sections": []
    },
    "kernelspec": {
      "name": "python3",
      "display_name": "Python 3"
    },
    "language_info": {
      "name": "python"
    }
  },
  "cells": [
    {
      "cell_type": "markdown",
      "metadata": {
        "id": "PhzIwfrhAzHo"
      },
      "source": [
        "Kyle Timmermans - Dr. Li - Homework #3 - 03/27/21"
      ]
    },
    {
      "cell_type": "code",
      "metadata": {
        "id": "nCnxDmJkA8Y-"
      },
      "source": [
        "# Import statements to begin with\n",
        "import numpy as np\n",
        "import pandas as pd\n",
        "from pandas import Series, DataFrame "
      ],
      "execution_count": null,
      "outputs": []
    },
    {
      "cell_type": "code",
      "metadata": {
        "id": "luaSFRuFmKzt"
      },
      "source": [
        "# Load a .csv file into a DataFrame object\n",
        "df = pd.read_csv('http://storm.cis.fordham.edu/~yli/data/Homework3.csv')"
      ],
      "execution_count": null,
      "outputs": []
    },
    {
      "cell_type": "markdown",
      "metadata": {
        "id": "7V2uD4mlmgHa"
      },
      "source": [
        "**Problem 1:** Find out the size of the dataset and information about columns such as names, types of\n",
        "data."
      ]
    },
    {
      "cell_type": "code",
      "metadata": {
        "colab": {
          "base_uri": "https://localhost:8080/"
        },
        "id": "ARiFNRNRmmea",
        "outputId": "184b1d1e-ad96-46a4-9a59-4af0e2a70445"
      },
      "source": [
        "df.info() # info() returns number of columns, rows, their names, and types of data"
      ],
      "execution_count": null,
      "outputs": [
        {
          "output_type": "stream",
          "text": [
            "<class 'pandas.core.frame.DataFrame'>\n",
            "RangeIndex: 148 entries, 0 to 147\n",
            "Data columns (total 7 columns):\n",
            " #   Column      Non-Null Count  Dtype  \n",
            "---  ------      --------------  -----  \n",
            " 0   region      148 non-null    int64  \n",
            " 1   age         148 non-null    int64  \n",
            " 2   income      148 non-null    int64  \n",
            " 3   long_Month  148 non-null    float64\n",
            " 4   internet    148 non-null    int64  \n",
            " 5   balance     130 non-null    float64\n",
            " 6   class       148 non-null    int64  \n",
            "dtypes: float64(2), int64(5)\n",
            "memory usage: 8.2 KB\n"
          ],
          "name": "stdout"
        }
      ]
    },
    {
      "cell_type": "markdown",
      "metadata": {
        "id": "m-o1Q5sBn-EW"
      },
      "source": [
        "**Problem 2:** Change data types for **region**, **internet** and **class** columns.\n",
        "Values of columns such as region, internet and class are categorical data, however, the\n",
        "system detected them as numerical values by default."
      ]
    },
    {
      "cell_type": "code",
      "metadata": {
        "id": "iT8WUJdNoPkn"
      },
      "source": [
        "# Uses format: df['col1'] = df['col1'].astype('category') \n",
        "df['region'] = df['region'].astype('category')  # col0 is region\n",
        "df['internet'] = df['internet'].astype('category')  # col4 is internet\n",
        "df['class'] = df['class'].astype('category')  # col6 is class"
      ],
      "execution_count": null,
      "outputs": []
    },
    {
      "cell_type": "markdown",
      "metadata": {
        "id": "zASAAaBQq1vV"
      },
      "source": [
        "**Problem 3:** Find the statistics information of all columns with numerical values."
      ]
    },
    {
      "cell_type": "code",
      "metadata": {
        "colab": {
          "base_uri": "https://localhost:8080/",
          "height": 297
        },
        "id": "HnEctOzlq5b2",
        "outputId": "6958ea13-3b73-4ab0-b680-dd692fae59a0"
      },
      "source": [
        "# Select all columns with type 'np.number' and then use describe() on each column found\n",
        "df.describe(include=[np.number])"
      ],
      "execution_count": null,
      "outputs": [
        {
          "output_type": "execute_result",
          "data": {
            "text/html": [
              "<div>\n",
              "<style scoped>\n",
              "    .dataframe tbody tr th:only-of-type {\n",
              "        vertical-align: middle;\n",
              "    }\n",
              "\n",
              "    .dataframe tbody tr th {\n",
              "        vertical-align: top;\n",
              "    }\n",
              "\n",
              "    .dataframe thead th {\n",
              "        text-align: right;\n",
              "    }\n",
              "</style>\n",
              "<table border=\"1\" class=\"dataframe\">\n",
              "  <thead>\n",
              "    <tr style=\"text-align: right;\">\n",
              "      <th></th>\n",
              "      <th>age</th>\n",
              "      <th>income</th>\n",
              "      <th>long_Month</th>\n",
              "      <th>balance</th>\n",
              "    </tr>\n",
              "  </thead>\n",
              "  <tbody>\n",
              "    <tr>\n",
              "      <th>count</th>\n",
              "      <td>148.000000</td>\n",
              "      <td>148.000000</td>\n",
              "      <td>148.000000</td>\n",
              "      <td>130.000000</td>\n",
              "    </tr>\n",
              "    <tr>\n",
              "      <th>mean</th>\n",
              "      <td>41.858108</td>\n",
              "      <td>78.033784</td>\n",
              "      <td>12.801014</td>\n",
              "      <td>2.867875</td>\n",
              "    </tr>\n",
              "    <tr>\n",
              "      <th>std</th>\n",
              "      <td>12.246343</td>\n",
              "      <td>70.333841</td>\n",
              "      <td>11.020086</td>\n",
              "      <td>0.569537</td>\n",
              "    </tr>\n",
              "    <tr>\n",
              "      <th>min</th>\n",
              "      <td>20.000000</td>\n",
              "      <td>13.000000</td>\n",
              "      <td>1.650000</td>\n",
              "      <td>1.321756</td>\n",
              "    </tr>\n",
              "    <tr>\n",
              "      <th>25%</th>\n",
              "      <td>33.000000</td>\n",
              "      <td>33.000000</td>\n",
              "      <td>5.762500</td>\n",
              "      <td>2.490061</td>\n",
              "    </tr>\n",
              "    <tr>\n",
              "      <th>50%</th>\n",
              "      <td>41.000000</td>\n",
              "      <td>55.500000</td>\n",
              "      <td>10.225000</td>\n",
              "      <td>2.869293</td>\n",
              "    </tr>\n",
              "    <tr>\n",
              "      <th>75%</th>\n",
              "      <td>52.000000</td>\n",
              "      <td>101.250000</td>\n",
              "      <td>15.312500</td>\n",
              "      <td>3.274570</td>\n",
              "    </tr>\n",
              "    <tr>\n",
              "      <th>max</th>\n",
              "      <td>69.000000</td>\n",
              "      <td>460.000000</td>\n",
              "      <td>89.400000</td>\n",
              "      <td>4.471639</td>\n",
              "    </tr>\n",
              "  </tbody>\n",
              "</table>\n",
              "</div>"
            ],
            "text/plain": [
              "              age      income  long_Month     balance\n",
              "count  148.000000  148.000000  148.000000  130.000000\n",
              "mean    41.858108   78.033784   12.801014    2.867875\n",
              "std     12.246343   70.333841   11.020086    0.569537\n",
              "min     20.000000   13.000000    1.650000    1.321756\n",
              "25%     33.000000   33.000000    5.762500    2.490061\n",
              "50%     41.000000   55.500000   10.225000    2.869293\n",
              "75%     52.000000  101.250000   15.312500    3.274570\n",
              "max     69.000000  460.000000   89.400000    4.471639"
            ]
          },
          "metadata": {
            "tags": []
          },
          "execution_count": 236
        }
      ]
    },
    {
      "cell_type": "markdown",
      "metadata": {
        "id": "7fUn0GA-t5yd"
      },
      "source": [
        "**Problem 4:** We would like to check the category distribution of each categorical data column. Draw\n",
        "three bar plots for the above mentioned three categorical data columns. However, you\n",
        "could not create bar plot for categorical data directly, you have to create the plot for\n",
        "value_counts of the column."
      ]
    },
    {
      "cell_type": "code",
      "metadata": {
        "colab": {
          "base_uri": "https://localhost:8080/"
        },
        "id": "rUnxHHdxuEk3",
        "outputId": "54e5d5f2-86fa-48cc-c19c-2bf482463e19"
      },
      "source": [
        "# Uses format = df[‘col’].value_counts( ).sort_index( ).plot.bar( )\n",
        "# The categorical data columns are region, internet, and class\n",
        "categoricalColumns = df.select_dtypes(include='category').columns.values\n",
        "print(categoricalColumns)"
      ],
      "execution_count": null,
      "outputs": [
        {
          "output_type": "stream",
          "text": [
            "['region' 'internet' 'class']\n"
          ],
          "name": "stdout"
        }
      ]
    },
    {
      "cell_type": "code",
      "metadata": {
        "colab": {
          "base_uri": "https://localhost:8080/",
          "height": 279
        },
        "id": "NeGPaxiMERnH",
        "outputId": "7b9b9f6f-2ba2-4f4b-98b2-c3b5fd71ae70"
      },
      "source": [
        "# region column bar plot\n",
        "df[categoricalColumns[0]].value_counts( ).sort_index( ).plot.bar( )"
      ],
      "execution_count": null,
      "outputs": [
        {
          "output_type": "execute_result",
          "data": {
            "text/plain": [
              "<matplotlib.axes._subplots.AxesSubplot at 0x7fc0d8aed250>"
            ]
          },
          "metadata": {
            "tags": []
          },
          "execution_count": 238
        },
        {
          "output_type": "display_data",
          "data": {
            "image/png": "[encoded data removed]",
            "text/plain": [
              "<Figure size 432x288 with 1 Axes>"
            ]
          },
          "metadata": {
            "tags": [],
            "needs_background": "light"
          }
        }
      ]
    },
    {
      "cell_type": "code",
      "metadata": {
        "colab": {
          "base_uri": "https://localhost:8080/",
          "height": 279
        },
        "id": "GkGV53WEERwn",
        "outputId": "8cdc2a4f-a82d-4289-e86a-3485b67a766b"
      },
      "source": [
        "# internet column bar plot\n",
        "df[categoricalColumns[1]].value_counts( ).sort_index( ).plot.bar( )"
      ],
      "execution_count": null,
      "outputs": [
        {
          "output_type": "execute_result",
          "data": {
            "text/plain": [
              "<matplotlib.axes._subplots.AxesSubplot at 0x7fc0d8ab51d0>"
            ]
          },
          "metadata": {
            "tags": []
          },
          "execution_count": 239
        },
        {
          "output_type": "display_data",
          "data": {
            "image/png": "[encoded data removed]",
            "text/plain": [
              "<Figure size 432x288 with 1 Axes>"
            ]
          },
          "metadata": {
            "tags": [],
            "needs_background": "light"
          }
        }
      ]
    },
    {
      "cell_type": "code",
      "metadata": {
        "colab": {
          "base_uri": "https://localhost:8080/",
          "height": 279
        },
        "id": "l_ftQr2JER4Q",
        "outputId": "0a0df7bd-b355-4420-ffe9-ebcb79352253"
      },
      "source": [
        "# class column bar plot\n",
        "df[categoricalColumns[2]].value_counts( ).sort_index( ).plot.bar( )"
      ],
      "execution_count": null,
      "outputs": [
        {
          "output_type": "execute_result",
          "data": {
            "text/plain": [
              "<matplotlib.axes._subplots.AxesSubplot at 0x7fc0d8a39b90>"
            ]
          },
          "metadata": {
            "tags": []
          },
          "execution_count": 240
        },
        {
          "output_type": "display_data",
          "data": {
            "image/png": "[encoded data removed]",
            "text/plain": [
              "<Figure size 432x288 with 1 Axes>"
            ]
          },
          "metadata": {
            "tags": [],
            "needs_background": "light"
          }
        }
      ]
    },
    {
      "cell_type": "markdown",
      "metadata": {
        "id": "owpEb79K8xSL"
      },
      "source": [
        "**Problem 5:**  Draw density plots for columns with numerical data, such as **age**, **income**, **long_Month**, and\n",
        "**balance**."
      ]
    },
    {
      "cell_type": "code",
      "metadata": {
        "colab": {
          "base_uri": "https://localhost:8080/"
        },
        "id": "iTZJ0gYS9W0a",
        "outputId": "7cb7073f-0c0f-4a99-977f-32b22d7c2978"
      },
      "source": [
        "# Uses format = df[‘col’].sort_index().plot.density()\n",
        "numericalColumns = df.select_dtypes(include=[np.number]).columns.values\n",
        "print(numericalColumns)"
      ],
      "execution_count": null,
      "outputs": [
        {
          "output_type": "stream",
          "text": [
            "['age' 'income' 'long_Month' 'balance']\n"
          ],
          "name": "stdout"
        }
      ]
    },
    {
      "cell_type": "code",
      "metadata": {
        "colab": {
          "base_uri": "https://localhost:8080/",
          "height": 282
        },
        "id": "IKSCu2T-Emcj",
        "outputId": "3b6c0128-0a1f-4b91-a568-7a3e4da9b1fe"
      },
      "source": [
        "# age column density \n",
        "df[numericalColumns[0]].value_counts( ).sort_index( ).plot.density( )"
      ],
      "execution_count": null,
      "outputs": [
        {
          "output_type": "execute_result",
          "data": {
            "text/plain": [
              "<matplotlib.axes._subplots.AxesSubplot at 0x7fc0d898b650>"
            ]
          },
          "metadata": {
            "tags": []
          },
          "execution_count": 242
        },
        {
          "output_type": "display_data",
          "data": {
            "image/png": "[encoded data removed]",
            "text/plain": [
              "<Figure size 432x288 with 1 Axes>"
            ]
          },
          "metadata": {
            "tags": [],
            "needs_background": "light"
          }
        }
      ]
    },
    {
      "cell_type": "code",
      "metadata": {
        "colab": {
          "base_uri": "https://localhost:8080/",
          "height": 282
        },
        "id": "Cy6eYtjBEmnG",
        "outputId": "9a3080b2-4420-4774-b227-3b90681af93e"
      },
      "source": [
        "# income column density \n",
        "df[numericalColumns[1]].value_counts( ).sort_index( ).plot.density( )"
      ],
      "execution_count": null,
      "outputs": [
        {
          "output_type": "execute_result",
          "data": {
            "text/plain": [
              "<matplotlib.axes._subplots.AxesSubplot at 0x7fc0d8921c90>"
            ]
          },
          "metadata": {
            "tags": []
          },
          "execution_count": 243
        },
        {
          "output_type": "display_data",
          "data": {
            "image/png": "[encoded data removed]",
            "text/plain": [
              "<Figure size 432x288 with 1 Axes>"
            ]
          },
          "metadata": {
            "tags": [],
            "needs_background": "light"
          }
        }
      ]
    },
    {
      "cell_type": "code",
      "metadata": {
        "colab": {
          "base_uri": "https://localhost:8080/",
          "height": 286
        },
        "id": "zPm03wOOEmw6",
        "outputId": "7282eef6-5267-48aa-c02d-2831b53c455e"
      },
      "source": [
        "# long_Month column density \n",
        "df[numericalColumns[2]].value_counts( ).sort_index( ).plot.density( )"
      ],
      "execution_count": null,
      "outputs": [
        {
          "output_type": "execute_result",
          "data": {
            "text/plain": [
              "<matplotlib.axes._subplots.AxesSubplot at 0x7fc0d8894510>"
            ]
          },
          "metadata": {
            "tags": []
          },
          "execution_count": 244
        },
        {
          "output_type": "display_data",
          "data": {
            "image/png": "[encoded data removed]",
            "text/plain": [
              "<Figure size 432x288 with 1 Axes>"
            ]
          },
          "metadata": {
            "tags": [],
            "needs_background": "light"
          }
        }
      ]
    },
    {
      "cell_type": "code",
      "metadata": {
        "colab": {
          "base_uri": "https://localhost:8080/",
          "height": 282
        },
        "id": "CtGu5lPVEm6F",
        "outputId": "4d078a1f-ce89-4383-ec71-88cfa77e743b"
      },
      "source": [
        "# balance column density \n",
        "df[numericalColumns[3]].value_counts( ).sort_index( ).plot.density( )"
      ],
      "execution_count": null,
      "outputs": [
        {
          "output_type": "execute_result",
          "data": {
            "text/plain": [
              "<matplotlib.axes._subplots.AxesSubplot at 0x7fc0d8805610>"
            ]
          },
          "metadata": {
            "tags": []
          },
          "execution_count": 245
        },
        {
          "output_type": "display_data",
          "data": {
            "image/png": "[encoded data removed]",
            "text/plain": [
              "<Figure size 432x288 with 1 Axes>"
            ]
          },
          "metadata": {
            "tags": [],
            "needs_background": "light"
          }
        }
      ]
    },
    {
      "cell_type": "markdown",
      "metadata": {
        "id": "YPG9AK9S-uzV"
      },
      "source": [
        "**Problem 6:** Check whether columns with numerical data have outliers by drawing box plots (use the\n",
        "formula we discussed in class, the factor is 1.5), if they do, replace them with the closer\n",
        "boundary. Keep the original columns, adding new columns for processed features.\n",
        "At the stage, you could create a copy of the original dataframe and drop old columns with outliers."
      ]
    },
    {
      "cell_type": "code",
      "metadata": {
        "colab": {
          "base_uri": "https://localhost:8080/",
          "height": 282
        },
        "id": "tap3lhzy-2Kb",
        "outputId": "9711a56c-29e0-42ae-e101-466e634f454b"
      },
      "source": [
        "# age column box plot\n",
        "df[numericalColumns[0]].plot.box(whis=2)\n",
        "# Does not have outliers"
      ],
      "execution_count": null,
      "outputs": [
        {
          "output_type": "execute_result",
          "data": {
            "text/plain": [
              "<matplotlib.axes._subplots.AxesSubplot at 0x7fc0d87f5d50>"
            ]
          },
          "metadata": {
            "tags": []
          },
          "execution_count": 246
        },
        {
          "output_type": "display_data",
          "data": {
            "image/png": "[encoded data removed]",
            "text/plain": [
              "<Figure size 432x288 with 1 Axes>"
            ]
          },
          "metadata": {
            "tags": [],
            "needs_background": "light"
          }
        }
      ]
    },
    {
      "cell_type": "code",
      "metadata": {
        "colab": {
          "base_uri": "https://localhost:8080/",
          "height": 282
        },
        "id": "NjNIHMCyaEWg",
        "outputId": "4af45344-4759-417c-f652-f8575e6693c0"
      },
      "source": [
        "# income column box plot\n",
        "df[numericalColumns[1]].plot.box(whis=2)\n",
        "# Contains outliers"
      ],
      "execution_count": null,
      "outputs": [
        {
          "output_type": "execute_result",
          "data": {
            "text/plain": [
              "<matplotlib.axes._subplots.AxesSubplot at 0x7fc0d8752150>"
            ]
          },
          "metadata": {
            "tags": []
          },
          "execution_count": 247
        },
        {
          "output_type": "display_data",
          "data": {
            "image/png": "[encoded data removed]",
            "text/plain": [
              "<Figure size 432x288 with 1 Axes>"
            ]
          },
          "metadata": {
            "tags": [],
            "needs_background": "light"
          }
        }
      ]
    },
    {
      "cell_type": "code",
      "metadata": {
        "colab": {
          "base_uri": "https://localhost:8080/",
          "height": 283
        },
        "id": "FHW9iq1daZcS",
        "outputId": "400f63d3-7f4c-4b5e-f159-f6b825ca5308"
      },
      "source": [
        "# long_Month column box plot\n",
        "df[numericalColumns[2]].plot.box(whis=2)\n",
        "# Contains outliers"
      ],
      "execution_count": null,
      "outputs": [
        {
          "output_type": "execute_result",
          "data": {
            "text/plain": [
              "<matplotlib.axes._subplots.AxesSubplot at 0x7fc0d873de10>"
            ]
          },
          "metadata": {
            "tags": []
          },
          "execution_count": 248
        },
        {
          "output_type": "display_data",
          "data": {
            "image/png": "[encoded data removed]",
            "text/plain": [
              "<Figure size 432x288 with 1 Axes>"
            ]
          },
          "metadata": {
            "tags": [],
            "needs_background": "light"
          }
        }
      ]
    },
    {
      "cell_type": "code",
      "metadata": {
        "colab": {
          "base_uri": "https://localhost:8080/",
          "height": 282
        },
        "id": "YUkrUDa4adOe",
        "outputId": "39c8ee8b-aa7a-4a00-a87e-1c40e55c5fc2"
      },
      "source": [
        "# balance column box plot\n",
        "df[numericalColumns[3]].plot.box(whis=2)\n",
        "# Does not contain outliers"
      ],
      "execution_count": null,
      "outputs": [
        {
          "output_type": "execute_result",
          "data": {
            "text/plain": [
              "<matplotlib.axes._subplots.AxesSubplot at 0x7fc0d8733e10>"
            ]
          },
          "metadata": {
            "tags": []
          },
          "execution_count": 249
        },
        {
          "output_type": "display_data",
          "data": {
            "image/png": "[encoded data removed]",
            "text/plain": [
              "<Figure size 432x288 with 1 Axes>"
            ]
          },
          "metadata": {
            "tags": [],
            "needs_background": "light"
          }
        }
      ]
    },
    {
      "cell_type": "code",
      "metadata": {
        "colab": {
          "base_uri": "https://localhost:8080/"
        },
        "id": "jV1nqnf7bf_3",
        "outputId": "b200824f-9acf-4c29-bf3d-e68aec81dfd1"
      },
      "source": [
        "# Removing outliers with algortihm discussed in class(Factor is 1.5)\n",
        "# Turn into function so we can reuse\n",
        "def check_outliers(x):\n",
        "  q25 = x.quantile(.25)\n",
        "  q75 = x.quantile(.75)\n",
        "  IQR = q75-q25\n",
        "  l = q25 - IQR*2\n",
        "  u = q75 + IQR*2\n",
        "  return l, u\n",
        "\n",
        "# The outlier columns that need to be fixed: income (nC[1]), long_Month (nC[2])\n",
        "\n",
        "# income column\n",
        "lower, upper = check_outliers(df[numericalColumns[1]])\n",
        "print(f'lower = {lower}, upper={upper}')  # Get upper and lower bound of outliers\n",
        "\n",
        "# Show amount of numbers that are under the lower bound and above the upper bound, they are our outliers\n",
        "mask_lower = df[numericalColumns[1]]<lower \n",
        "print(\"Mask lower: \" + str(mask_lower.sum()))\n",
        "mask_upper = df[numericalColumns[1]]>upper\n",
        "print(\"Mask upper: \" + str(mask_upper.sum()))\n",
        "\n",
        "# Set new column to old column and change to upper\n",
        "df['new_income'] = df['income']\n",
        "for i in df[mask_upper].index:\n",
        "  df.loc[i,'new_income'] = upper\n",
        "\n",
        "# long_Month column\n",
        "lower, upper = check_outliers(df[numericalColumns[2]])\n",
        "print(f'lower = {lower}, upper={upper}')  \n",
        "\n",
        "mask_lower = df[numericalColumns[2]]<lower\n",
        "print(\"Mask lower: \" + str(mask_lower.sum()))\n",
        "mask_upper = df[numericalColumns[2]]>upper\n",
        "print(\"Mask upper: \" + str(mask_upper.sum()))\n",
        "\n",
        "df['new_long_Month'] = df['long_Month']\n",
        "for i in df[mask_upper].index:\n",
        "  df.loc[i,'new_long_Month'] = upper\n",
        "\n",
        "# Create new DataFrame and delete old numerical columns that contain outliers\n",
        "df2 = df\n",
        "del df2['income'] \n",
        "del df2['long_Month']\n",
        "\n",
        "# Show new DataFrame, df2\n",
        "print(\"\\n_____________________________________\\n\")\n",
        "df2.info()"
      ],
      "execution_count": null,
      "outputs": [
        {
          "output_type": "stream",
          "text": [
            "lower = -103.5, upper=237.75\n",
            "Mask lower: 0\n",
            "Mask upper: 5\n",
            "lower = -13.337500000000002, upper=34.4125\n",
            "Mask lower: 0\n",
            "Mask upper: 5\n",
            "\n",
            "_____________________________________\n",
            "\n",
            "<class 'pandas.core.frame.DataFrame'>\n",
            "RangeIndex: 148 entries, 0 to 147\n",
            "Data columns (total 7 columns):\n",
            " #   Column          Non-Null Count  Dtype   \n",
            "---  ------          --------------  -----   \n",
            " 0   region          148 non-null    category\n",
            " 1   age             148 non-null    int64   \n",
            " 2   internet        148 non-null    category\n",
            " 3   balance         130 non-null    float64 \n",
            " 4   class           148 non-null    category\n",
            " 5   new_income      148 non-null    float64 \n",
            " 6   new_long_Month  148 non-null    float64 \n",
            "dtypes: category(3), float64(3), int64(1)\n",
            "memory usage: 5.6 KB\n"
          ],
          "name": "stdout"
        }
      ]
    },
    {
      "cell_type": "markdown",
      "metadata": {
        "id": "MDgA8h-icb3g"
      },
      "source": [
        "**Problem 7:** Please fill missing values in **balance** column with group mean. There are two different types\n",
        "of columns in this dataset – categorical data and numerical data.\n",
        "\n",
        "\n",
        "*   a) To check whether to use group mean of a column with categorical data, study their group means of **balance**; if there are big differences among group means, the column is a good candidate. \n",
        "*   b) To check whether to use group mean of a column with numerical data, exam the density plots we have created, based on their patterns, select the column having similar distribution as the **balance** column. \n",
        "*   c) If a column eventually selected has numerical data, create bins first, you could try\n",
        "equal-width or equal-frequency binning, then use bin mean to fill the missing value. Please make this decision by yourself after checking all candidates, and explain your decision. \n",
        "\n",
        "\n",
        "\n"
      ]
    },
    {
      "cell_type": "code",
      "metadata": {
        "colab": {
          "base_uri": "https://localhost:8080/",
          "height": 35
        },
        "id": "ta7rMd7UA7R0",
        "outputId": "f4b8c588-689a-4abc-f275-2e1710e4b795"
      },
      "source": [
        "# The balance column is numerical data, so we will take option (c)\n",
        "df2.balance.dtype.name"
      ],
      "execution_count": null,
      "outputs": [
        {
          "output_type": "execute_result",
          "data": {
            "application/vnd.google.colaboratory.intrinsic+json": {
              "type": "string"
            },
            "text/plain": [
              "'float64'"
            ]
          },
          "metadata": {
            "tags": []
          },
          "execution_count": 251
        }
      ]
    },
    {
      "cell_type": "code",
      "metadata": {
        "colab": {
          "base_uri": "https://localhost:8080/"
        },
        "id": "4ppT_FGmFtJQ",
        "outputId": "7655d2d1-65e0-4fee-fe1d-7f570c244ed8"
      },
      "source": [
        "# Binning the balance column with equal width\n",
        "df2['balance_bin_ew'] = pd.cut(df2['balance'], 4)\n",
        "df2['balance_bin_ew_numerical'] = df2['balance_bin_ew'].astype('category').cat.codes  # Change balance_bin_ew to numerical data\n",
        "balanceEWmean = df2['balance_bin_ew_numerical'].mean()  # Get the mean of that data\n",
        "print(\"The missing values in the balance column will be filled with: \" + str(balanceEWmean))\n"
      ],
      "execution_count": null,
      "outputs": [
        {
          "output_type": "stream",
          "text": [
            "The missing values in the balance column will be filled with: 1.1418918918918919\n"
          ],
          "name": "stdout"
        }
      ]
    },
    {
      "cell_type": "code",
      "metadata": {
        "colab": {
          "base_uri": "https://localhost:8080/"
        },
        "id": "0HAE6x3Ov0Jn",
        "outputId": "3dcefe77-88e3-45ad-cbe3-0d7d50395990"
      },
      "source": [
        "# Fill in the missing values in the original balance column with the Equal width binned and averaged value\n",
        "df2['balance'].fillna(value=balanceEWmean, inplace=True)  # Inplace parameter fixes NaN issue\n",
        "del df2['balance_bin_ew']   # Remove the temporary binning columns\n",
        "del df2['balance_bin_ew_numerical']\n",
        "print(df2['balance'].head(10))\n",
        "# As we can see in the head of df2, the 8th value was replaced with 1.41, as all the missing values were replaced with this float"
      ],
      "execution_count": null,
      "outputs": [
        {
          "output_type": "stream",
          "text": [
            "0    2.014903\n",
            "1    2.724580\n",
            "2    3.409496\n",
            "3    2.602690\n",
            "4    2.169054\n",
            "5    3.146305\n",
            "6    2.484907\n",
            "7    2.803360\n",
            "8    1.141892\n",
            "9    3.167583\n",
            "Name: balance, dtype: float64\n"
          ],
          "name": "stdout"
        }
      ]
    },
    {
      "cell_type": "markdown",
      "metadata": {
        "id": "ofSEWMv204Qy"
      },
      "source": [
        "**Reasoning for solution to problem 7:** I used cut (Equal width) so I could get bins of equal spacing with different frequency of samples in each bin. This gives us a realistic scenario of different samples of balances, thus ultimately giving a realistic mean of all the balances to replace the empty values in the balances column.\n"
      ]
    },
    {
      "cell_type": "markdown",
      "metadata": {
        "id": "68nrAo3-76Zf"
      },
      "source": [
        "**Problem 8:** Check whether there are columns positively related with each other by drawing pairplots and calculate pearson correlation coefficients for numerical features. Describe your observation."
      ]
    },
    {
      "cell_type": "code",
      "metadata": {
        "colab": {
          "base_uri": "https://localhost:8080/",
          "height": 743
        },
        "id": "oR4QZxUD8Cvd",
        "outputId": "cd3c3112-723e-412e-9b28-5576f29dae93"
      },
      "source": [
        "# Import seaborn for pairplot method\n",
        "import seaborn as sns\n",
        "\n",
        "sns.pairplot(df2)"
      ],
      "execution_count": null,
      "outputs": [
        {
          "output_type": "execute_result",
          "data": {
            "text/plain": [
              "<seaborn.axisgrid.PairGrid at 0x7fc0d85843d0>"
            ]
          },
          "metadata": {
            "tags": []
          },
          "execution_count": 254
        },
        {
          "output_type": "display_data",
          "data": {
            "image/png": "[encoded data removed]",
            "text/plain": [
              "<Figure size 720x720 with 20 Axes>"
            ]
          },
          "metadata": {
            "tags": [],
            "needs_background": "light"
          }
        }
      ]
    },
    {
      "cell_type": "code",
      "metadata": {
        "colab": {
          "base_uri": "https://localhost:8080/"
        },
        "id": "5MokJHJOL3I5",
        "outputId": "979b5330-6050-44d4-8e0e-7413bb81df34"
      },
      "source": [
        "# age -> all, balance -> all, new_income -> all, new_long_Month -> all\n",
        "# corr() used to find pearson correlation\n",
        "# 1.0 for self to self correlation as they are exactly the same (same column)\n",
        "print(df2.corr())\n",
        "print(\"\\n_____________________________________________________\\n\")\n",
        "print(\"Indicated by this relationship matrix:\")\n",
        "print(\"age and new_long_Month have the most positive correlation coefficient at 0.489360\")\n",
        "print(\"new_income and balance have the lowest correlation coefficient at 0.290997\")"
      ],
      "execution_count": null,
      "outputs": [
        {
          "output_type": "stream",
          "text": [
            "                     age   balance  new_income  new_long_Month\n",
            "age             1.000000  0.373345    0.435056        0.489360\n",
            "balance         0.373345  1.000000    0.290997        0.338048\n",
            "new_income      0.435056  0.290997    1.000000        0.336828\n",
            "new_long_Month  0.489360  0.338048    0.336828        1.000000\n",
            "\n",
            "_____________________________________________________\n",
            "\n",
            "Indicated by this relationship matrix:\n",
            "age and new_long_Month have the most positive correlation coefficient at 0.489360\n",
            "new_income and balance have the lowest correlation coefficient at 0.290997\n"
          ],
          "name": "stdout"
        }
      ]
    },
    {
      "cell_type": "markdown",
      "metadata": {
        "id": "_QcCuAiGOstt"
      },
      "source": [
        "**Problem 9:** Perform Min_Max Normalization and Z_score Normalization on all columns with numerical data, compare them, which method you prefer? "
      ]
    },
    {
      "cell_type": "code",
      "metadata": {
        "colab": {
          "base_uri": "https://localhost:8080/",
          "height": 419
        },
        "id": "xN1o3neVO5dF",
        "outputId": "6f87367f-c9ee-4000-d8dc-08c92fd1aad6"
      },
      "source": [
        "# Scikit learn z-score normalization\n",
        "from sklearn.preprocessing import StandardScaler  # StandardScaler = z-score normalization\n",
        "zscore = StandardScaler().fit_transform(df2.values)  # Apply z-score normalization\n",
        "zscore_df = pd.DataFrame(zscore, index=df2.index, columns=df2.columns)  # Put z-score normalization data into DataFrame\n",
        "zscore_df[['age', 'balance', 'new_income', 'new_long_Month']]  # Only numerical data columns"
      ],
      "execution_count": null,
      "outputs": [
        {
          "output_type": "execute_result",
          "data": {
            "text/html": [
              "<div>\n",
              "<style scoped>\n",
              "    .dataframe tbody tr th:only-of-type {\n",
              "        vertical-align: middle;\n",
              "    }\n",
              "\n",
              "    .dataframe tbody tr th {\n",
              "        vertical-align: top;\n",
              "    }\n",
              "\n",
              "    .dataframe thead th {\n",
              "        text-align: right;\n",
              "    }\n",
              "</style>\n",
              "<table border=\"1\" class=\"dataframe\">\n",
              "  <thead>\n",
              "    <tr style=\"text-align: right;\">\n",
              "      <th></th>\n",
              "      <th>age</th>\n",
              "      <th>balance</th>\n",
              "      <th>new_income</th>\n",
              "      <th>new_long_Month</th>\n",
              "    </tr>\n",
              "  </thead>\n",
              "  <tbody>\n",
              "    <tr>\n",
              "      <th>0</th>\n",
              "      <td>0.175494</td>\n",
              "      <td>-0.829505</td>\n",
              "      <td>-0.187926</td>\n",
              "      <td>-1.033841</td>\n",
              "    </tr>\n",
              "    <tr>\n",
              "      <th>1</th>\n",
              "      <td>-0.725783</td>\n",
              "      <td>0.085937</td>\n",
              "      <td>1.120284</td>\n",
              "      <td>-0.948123</td>\n",
              "    </tr>\n",
              "    <tr>\n",
              "      <th>2</th>\n",
              "      <td>0.830969</td>\n",
              "      <td>0.969441</td>\n",
              "      <td>0.756892</td>\n",
              "      <td>0.735627</td>\n",
              "    </tr>\n",
              "    <tr>\n",
              "      <th>3</th>\n",
              "      <td>-0.234177</td>\n",
              "      <td>-0.071294</td>\n",
              "      <td>0.066448</td>\n",
              "      <td>-0.041959</td>\n",
              "    </tr>\n",
              "    <tr>\n",
              "      <th>4</th>\n",
              "      <td>-1.627060</td>\n",
              "      <td>-0.630659</td>\n",
              "      <td>-1.005558</td>\n",
              "      <td>-0.152168</td>\n",
              "    </tr>\n",
              "    <tr>\n",
              "      <th>...</th>\n",
              "      <td>...</td>\n",
              "      <td>...</td>\n",
              "      <td>...</td>\n",
              "      <td>...</td>\n",
              "    </tr>\n",
              "    <tr>\n",
              "      <th>143</th>\n",
              "      <td>-1.708995</td>\n",
              "      <td>-1.352532</td>\n",
              "      <td>-1.005558</td>\n",
              "      <td>-0.519532</td>\n",
              "    </tr>\n",
              "    <tr>\n",
              "      <th>144</th>\n",
              "      <td>-0.234177</td>\n",
              "      <td>1.280526</td>\n",
              "      <td>-0.623996</td>\n",
              "      <td>2.727045</td>\n",
              "    </tr>\n",
              "    <tr>\n",
              "      <th>145</th>\n",
              "      <td>2.223852</td>\n",
              "      <td>-0.250385</td>\n",
              "      <td>-0.296944</td>\n",
              "      <td>-0.709337</td>\n",
              "    </tr>\n",
              "    <tr>\n",
              "      <th>146</th>\n",
              "      <td>1.896115</td>\n",
              "      <td>0.020884</td>\n",
              "      <td>0.974927</td>\n",
              "      <td>1.109114</td>\n",
              "    </tr>\n",
              "    <tr>\n",
              "      <th>147</th>\n",
              "      <td>1.978049</td>\n",
              "      <td>0.352458</td>\n",
              "      <td>2.969040</td>\n",
              "      <td>2.727045</td>\n",
              "    </tr>\n",
              "  </tbody>\n",
              "</table>\n",
              "<p>148 rows × 4 columns</p>\n",
              "</div>"
            ],
            "text/plain": [
              "          age   balance  new_income  new_long_Month\n",
              "0    0.175494 -0.829505   -0.187926       -1.033841\n",
              "1   -0.725783  0.085937    1.120284       -0.948123\n",
              "2    0.830969  0.969441    0.756892        0.735627\n",
              "3   -0.234177 -0.071294    0.066448       -0.041959\n",
              "4   -1.627060 -0.630659   -1.005558       -0.152168\n",
              "..        ...       ...         ...             ...\n",
              "143 -1.708995 -1.352532   -1.005558       -0.519532\n",
              "144 -0.234177  1.280526   -0.623996        2.727045\n",
              "145  2.223852 -0.250385   -0.296944       -0.709337\n",
              "146  1.896115  0.020884    0.974927        1.109114\n",
              "147  1.978049  0.352458    2.969040        2.727045\n",
              "\n",
              "[148 rows x 4 columns]"
            ]
          },
          "metadata": {
            "tags": []
          },
          "execution_count": 296
        }
      ]
    },
    {
      "cell_type": "code",
      "metadata": {
        "colab": {
          "base_uri": "https://localhost:8080/",
          "height": 419
        },
        "id": "rzKC_Qf6Q5sZ",
        "outputId": "d06f8e67-1dac-4b61-a82c-af24a38361ee"
      },
      "source": [
        "# Scikit learn minx-max normalization\n",
        "from sklearn.preprocessing import MinMaxScaler\n",
        "\n",
        "min_max_scaler_import = MinMaxScaler()  # Import scaler\n",
        "dataMinMaxScaleDF[['age', 'balance', 'new_income', 'new_long_Month']] = min_max_scaler_import.fit_transform(df2[['age', 'balance', 'new_income', 'new_long_Month']])\n",
        "del dataMinMaxScaleDF[0], dataMinMaxScaleDF[1], dataMinMaxScaleDF[2], dataMinMaxScaleDF[3]  # Clean DataFrame\n",
        "dataMinMaxScaleDF"
      ],
      "execution_count": null,
      "outputs": [
        {
          "output_type": "execute_result",
          "data": {
            "text/html": [
              "<div>\n",
              "<style scoped>\n",
              "    .dataframe tbody tr th:only-of-type {\n",
              "        vertical-align: middle;\n",
              "    }\n",
              "\n",
              "    .dataframe tbody tr th {\n",
              "        vertical-align: top;\n",
              "    }\n",
              "\n",
              "    .dataframe thead th {\n",
              "        text-align: right;\n",
              "    }\n",
              "</style>\n",
              "<table border=\"1\" class=\"dataframe\">\n",
              "  <thead>\n",
              "    <tr style=\"text-align: right;\">\n",
              "      <th></th>\n",
              "      <th>age</th>\n",
              "      <th>balance</th>\n",
              "      <th>new_income</th>\n",
              "      <th>new_long_Month</th>\n",
              "    </tr>\n",
              "  </thead>\n",
              "  <tbody>\n",
              "    <tr>\n",
              "      <th>0</th>\n",
              "      <td>0.489796</td>\n",
              "      <td>0.262185</td>\n",
              "      <td>0.226919</td>\n",
              "      <td>0.062572</td>\n",
              "    </tr>\n",
              "    <tr>\n",
              "      <th>1</th>\n",
              "      <td>0.265306</td>\n",
              "      <td>0.475318</td>\n",
              "      <td>0.547275</td>\n",
              "      <td>0.083937</td>\n",
              "    </tr>\n",
              "    <tr>\n",
              "      <th>2</th>\n",
              "      <td>0.653061</td>\n",
              "      <td>0.681014</td>\n",
              "      <td>0.458287</td>\n",
              "      <td>0.503625</td>\n",
              "    </tr>\n",
              "    <tr>\n",
              "      <th>3</th>\n",
              "      <td>0.387755</td>\n",
              "      <td>0.438711</td>\n",
              "      <td>0.289210</td>\n",
              "      <td>0.309805</td>\n",
              "    </tr>\n",
              "    <tr>\n",
              "      <th>4</th>\n",
              "      <td>0.040816</td>\n",
              "      <td>0.308480</td>\n",
              "      <td>0.026696</td>\n",
              "      <td>0.282335</td>\n",
              "    </tr>\n",
              "    <tr>\n",
              "      <th>...</th>\n",
              "      <td>...</td>\n",
              "      <td>...</td>\n",
              "      <td>...</td>\n",
              "      <td>...</td>\n",
              "    </tr>\n",
              "    <tr>\n",
              "      <th>143</th>\n",
              "      <td>0.020408</td>\n",
              "      <td>0.140415</td>\n",
              "      <td>0.026696</td>\n",
              "      <td>0.190767</td>\n",
              "    </tr>\n",
              "    <tr>\n",
              "      <th>144</th>\n",
              "      <td>0.387755</td>\n",
              "      <td>0.753441</td>\n",
              "      <td>0.120133</td>\n",
              "      <td>1.000000</td>\n",
              "    </tr>\n",
              "    <tr>\n",
              "      <th>145</th>\n",
              "      <td>1.000000</td>\n",
              "      <td>0.397016</td>\n",
              "      <td>0.200222</td>\n",
              "      <td>0.143457</td>\n",
              "    </tr>\n",
              "    <tr>\n",
              "      <th>146</th>\n",
              "      <td>0.918367</td>\n",
              "      <td>0.460172</td>\n",
              "      <td>0.511680</td>\n",
              "      <td>0.596719</td>\n",
              "    </tr>\n",
              "    <tr>\n",
              "      <th>147</th>\n",
              "      <td>0.938776</td>\n",
              "      <td>0.537369</td>\n",
              "      <td>1.000000</td>\n",
              "      <td>1.000000</td>\n",
              "    </tr>\n",
              "  </tbody>\n",
              "</table>\n",
              "<p>148 rows × 4 columns</p>\n",
              "</div>"
            ],
            "text/plain": [
              "          age   balance  new_income  new_long_Month\n",
              "0    0.489796  0.262185    0.226919        0.062572\n",
              "1    0.265306  0.475318    0.547275        0.083937\n",
              "2    0.653061  0.681014    0.458287        0.503625\n",
              "3    0.387755  0.438711    0.289210        0.309805\n",
              "4    0.040816  0.308480    0.026696        0.282335\n",
              "..        ...       ...         ...             ...\n",
              "143  0.020408  0.140415    0.026696        0.190767\n",
              "144  0.387755  0.753441    0.120133        1.000000\n",
              "145  1.000000  0.397016    0.200222        0.143457\n",
              "146  0.918367  0.460172    0.511680        0.596719\n",
              "147  0.938776  0.537369    1.000000        1.000000\n",
              "\n",
              "[148 rows x 4 columns]"
            ]
          },
          "metadata": {
            "tags": []
          },
          "execution_count": 332
        }
      ]
    },
    {
      "cell_type": "markdown",
      "metadata": {
        "id": "nbJjTZtEXVqR"
      },
      "source": [
        "**Comparing Z-Score and Min-Max Normalization:** Min-max is the optimal normalization method for this data set because we have already removed the outliers. Min-max normalization will ensure that all the data will be on the same scale. Z-score normalization would be the optimal choice if we still had outliers present because the normalized data it returns is not on the same scale."
      ]
    }
  ]
}