{
  "nbformat": 4,
  "nbformat_minor": 0,
  "metadata": {
    "colab": {
      "name": "KyleTimmermans_Homework7_R02.ipynb",
      "provenance": [],
      "collapsed_sections": []
    },
    "kernelspec": {
      "name": "python3",
      "display_name": "Python 3"
    },
    "language_info": {
      "name": "python"
    }
  },
  "cells": [
    {
      "cell_type": "markdown",
      "metadata": {
        "id": "TTi-chEicv4k"
      },
      "source": [
        "Kyle Timmermans - Dr. Li - Homework #7 - 04/24/21"
      ]
    },
    {
      "cell_type": "code",
      "metadata": {
        "id": "GuNWAPStUueo"
      },
      "source": [
        "# Get necessary libraries\n",
        "import numpy as np\n",
        "import pandas as pd\n",
        "pd.options.mode.chained_assignment = None  # Don't show chained assignment warning\n",
        "import matplotlib.pyplot as plt   # Graphs / visuals\n",
        "from sklearn.cluster import KMeans  # k-means clustering"
      ],
      "execution_count": 184,
      "outputs": []
    },
    {
      "cell_type": "code",
      "metadata": {
        "colab": {
          "base_uri": "https://localhost:8080/",
          "height": 359
        },
        "id": "3oelKIOSc8VG",
        "outputId": "36e70b4d-4562-482d-f9f9-61a2227bd994"
      },
      "source": [
        "# Get data from csv file on Storm\n",
        "df = pd.read_csv('http://storm.cis.fordham.edu/~ktimmermans/pub_utilities.csv')\n",
        "df"
      ],
      "execution_count": 185,
      "outputs": [
        {
          "output_type": "execute_result",
          "data": {
            "text/html": [
              "<div>\n",
              "<style scoped>\n",
              "    .dataframe tbody tr th:only-of-type {\n",
              "        vertical-align: middle;\n",
              "    }\n",
              "\n",
              "    .dataframe tbody tr th {\n",
              "        vertical-align: top;\n",
              "    }\n",
              "\n",
              "    .dataframe thead th {\n",
              "        text-align: right;\n",
              "    }\n",
              "</style>\n",
              "<table border=\"1\" class=\"dataframe\">\n",
              "  <thead>\n",
              "    <tr style=\"text-align: right;\">\n",
              "      <th></th>\n",
              "      <th>Company</th>\n",
              "      <th>Sales</th>\n",
              "      <th>Fuel_Cost</th>\n",
              "    </tr>\n",
              "  </thead>\n",
              "  <tbody>\n",
              "    <tr>\n",
              "      <th>0</th>\n",
              "      <td>Arizona Public Service</td>\n",
              "      <td>9077</td>\n",
              "      <td>0.628</td>\n",
              "    </tr>\n",
              "    <tr>\n",
              "      <th>1</th>\n",
              "      <td>Boston Edison Co</td>\n",
              "      <td>5088</td>\n",
              "      <td>1.555</td>\n",
              "    </tr>\n",
              "    <tr>\n",
              "      <th>2</th>\n",
              "      <td>Central Louisiana Co</td>\n",
              "      <td>9212</td>\n",
              "      <td>1.058</td>\n",
              "    </tr>\n",
              "    <tr>\n",
              "      <th>3</th>\n",
              "      <td>Commonwealth Edison Co</td>\n",
              "      <td>6423</td>\n",
              "      <td>0.700</td>\n",
              "    </tr>\n",
              "    <tr>\n",
              "      <th>4</th>\n",
              "      <td>Consolidated Edison Co</td>\n",
              "      <td>3300</td>\n",
              "      <td>2.044</td>\n",
              "    </tr>\n",
              "    <tr>\n",
              "      <th>5</th>\n",
              "      <td>Puget Sound Power and Light Co</td>\n",
              "      <td>10991</td>\n",
              "      <td>0.620</td>\n",
              "    </tr>\n",
              "    <tr>\n",
              "      <th>6</th>\n",
              "      <td>Idaho Power Co</td>\n",
              "      <td>9038</td>\n",
              "      <td>0.309</td>\n",
              "    </tr>\n",
              "    <tr>\n",
              "      <th>7</th>\n",
              "      <td>Kentucky Utilities Co</td>\n",
              "      <td>8406</td>\n",
              "      <td>0.862</td>\n",
              "    </tr>\n",
              "    <tr>\n",
              "      <th>8</th>\n",
              "      <td>Madison Gas and Electric Co</td>\n",
              "      <td>6455</td>\n",
              "      <td>0.623</td>\n",
              "    </tr>\n",
              "    <tr>\n",
              "      <th>9</th>\n",
              "      <td>New England Electric Co</td>\n",
              "      <td>6154</td>\n",
              "      <td>1.897</td>\n",
              "    </tr>\n",
              "  </tbody>\n",
              "</table>\n",
              "</div>"
            ],
            "text/plain": [
              "                          Company  Sales  Fuel_Cost\n",
              "0          Arizona Public Service   9077      0.628\n",
              "1                Boston Edison Co   5088      1.555\n",
              "2            Central Louisiana Co   9212      1.058\n",
              "3          Commonwealth Edison Co   6423      0.700\n",
              "4          Consolidated Edison Co   3300      2.044\n",
              "5  Puget Sound Power and Light Co  10991      0.620\n",
              "6                  Idaho Power Co   9038      0.309\n",
              "7           Kentucky Utilities Co   8406      0.862\n",
              "8     Madison Gas and Electric Co   6455      0.623\n",
              "9         New England Electric Co   6154      1.897"
            ]
          },
          "metadata": {
            "tags": []
          },
          "execution_count": 185
        }
      ]
    },
    {
      "cell_type": "markdown",
      "metadata": {
        "id": "5oZcVxAMdB6p"
      },
      "source": [
        "**Problem 1:** First show a scatterplot of companies with these two features, with labels marking each company (Sales and Fuel_Cost). (This is done before you normalize the dataset). "
      ]
    },
    {
      "cell_type": "code",
      "metadata": {
        "colab": {
          "base_uri": "https://localhost:8080/",
          "height": 295
        },
        "id": "M_7tZDWAgKcq",
        "outputId": "5cea329e-e964-49e9-ae27-691429904199"
      },
      "source": [
        "x1 = df['Sales'].values   # .values gives array\n",
        "y1 = df['Fuel_Cost'].values\n",
        "\n",
        "\n",
        "# Marker list: https://matplotlib.org/stable/api/markers_api.html\n",
        "plt.scatter(x1[0], y1[0], marker='v', color='r', label=\"Arizona Public Service\")  # Axis values\n",
        "plt.scatter(x1[1], y1[1], marker='^', color='m', label=\"Boston Edison Co\")\n",
        "plt.scatter(x1[2], y1[2], marker='.', color='b', label=\"Central Louisiana Co\")\n",
        "plt.scatter(x1[3], y1[3], marker='<', color='g', label=\"Commonwealth Edison Co\")\n",
        "plt.scatter(x1[4], y1[4], marker='>', color='c', label=\"Consolidated Edison Co\")\n",
        "plt.scatter(x1[5], y1[5], marker='s', color='y', label=\"Puget Sound Power and Light Co\")\n",
        "plt.scatter(x1[6], y1[6], marker='*', color='k', label=\"Idaho Power Co\")\n",
        "plt.scatter(x1[7], y1[7], marker='D', color='tab:orange', label=\"Kentucky Utilities Co\")\n",
        "plt.scatter(x1[8], y1[8], marker='d', color='tab:pink', label=\"Madison Gas and Electric Co\")\n",
        "plt.scatter(x1[9], y1[9], marker='X', color='tab:purple', label=\"New England Electric Co\")\n",
        "\n",
        "plt.xlabel(\"Sales (kWh/year)\")  # Sales\n",
        "plt.ylabel(\"Fuel_Cost (cents/kWh\")  # Fuel_Cost\n",
        "plt.title('Scatter Plot for Sales & Fuel_Cost')  # Title\n",
        "plt.legend(scatterpoints=1,loc='upper right',ncol=1,fontsize=8,bbox_to_anchor=(1.5, 0.8))\n",
        "\n",
        "plt.show()  # Show scatter plot"
      ],
      "execution_count": 186,
      "outputs": [
        {
          "output_type": "display_data",
          "data": {
            "image/png": "[encoded data removed]",
            "text/plain": [
              "<Figure size 432x288 with 1 Axes>"
            ]
          },
          "metadata": {
            "tags": [],
            "needs_background": "light"
          }
        }
      ]
    },
    {
      "cell_type": "markdown",
      "metadata": {
        "id": "dEKlDH8qdGub"
      },
      "source": [
        "**Problem 2:** Please perform a k-means clustering on the given data with k = 3 and please show all steps of clustering with a corresponding scatterplot. The raw data should be normalized with Z-score normalization before clustering (mean and standard deviation are given, they are from a large dataset). \n",
        "*   *Mean*: Sales = 8,914.05, Fuel_Cost = 1.10\n",
        "*   *Standard Deviation*: Sales = 3,549.98, Fuel_Cost = 0.56"
      ]
    },
    {
      "cell_type": "code",
      "metadata": {
        "colab": {
          "base_uri": "https://localhost:8080/",
          "height": 359
        },
        "id": "RGn2uBhLq1FS",
        "outputId": "dab877a3-7055-41da-e366-df03eabfeffd"
      },
      "source": [
        "# Z-score normalization before clustering\n",
        "# See given means and std_deviations above\n",
        "# Z-score = (original - mean) / std\n",
        "\n",
        "zscored_df = df   # New df with z-score normalization applied\n",
        "del zscored_df['Company']   # k-means cannot handle strings\n",
        "\n",
        "# Means and Standard Deviations given for larger set\n",
        "sales_mean = 8914.05\n",
        "fuel_cost_mean = 1.10\n",
        "sales_std = 3549.98 \n",
        "fuel_cost_std = 0.56\n",
        "\n",
        "# Apply z-score normalization to Sales and Fuel_Cost columns\n",
        "for i in range(10):  # columns 0-9\n",
        "  zscored_df['Sales'][i] = (zscored_df['Sales'][i] - sales_mean) / sales_std  # Sales Z-scored\n",
        "  zscored_df['Fuel_Cost'][i] = (zscored_df['Fuel_Cost'][i] - fuel_cost_mean) / fuel_cost_std   # Fuel_Cost Z-scored\n",
        "\n",
        "zscored_df"
      ],
      "execution_count": 187,
      "outputs": [
        {
          "output_type": "execute_result",
          "data": {
            "text/html": [
              "<div>\n",
              "<style scoped>\n",
              "    .dataframe tbody tr th:only-of-type {\n",
              "        vertical-align: middle;\n",
              "    }\n",
              "\n",
              "    .dataframe tbody tr th {\n",
              "        vertical-align: top;\n",
              "    }\n",
              "\n",
              "    .dataframe thead th {\n",
              "        text-align: right;\n",
              "    }\n",
              "</style>\n",
              "<table border=\"1\" class=\"dataframe\">\n",
              "  <thead>\n",
              "    <tr style=\"text-align: right;\">\n",
              "      <th></th>\n",
              "      <th>Sales</th>\n",
              "      <th>Fuel_Cost</th>\n",
              "    </tr>\n",
              "  </thead>\n",
              "  <tbody>\n",
              "    <tr>\n",
              "      <th>0</th>\n",
              "      <td>0</td>\n",
              "      <td>-0.842857</td>\n",
              "    </tr>\n",
              "    <tr>\n",
              "      <th>1</th>\n",
              "      <td>-1</td>\n",
              "      <td>0.812500</td>\n",
              "    </tr>\n",
              "    <tr>\n",
              "      <th>2</th>\n",
              "      <td>0</td>\n",
              "      <td>-0.075000</td>\n",
              "    </tr>\n",
              "    <tr>\n",
              "      <th>3</th>\n",
              "      <td>0</td>\n",
              "      <td>-0.714286</td>\n",
              "    </tr>\n",
              "    <tr>\n",
              "      <th>4</th>\n",
              "      <td>-1</td>\n",
              "      <td>1.685714</td>\n",
              "    </tr>\n",
              "    <tr>\n",
              "      <th>5</th>\n",
              "      <td>0</td>\n",
              "      <td>-0.857143</td>\n",
              "    </tr>\n",
              "    <tr>\n",
              "      <th>6</th>\n",
              "      <td>0</td>\n",
              "      <td>-1.412500</td>\n",
              "    </tr>\n",
              "    <tr>\n",
              "      <th>7</th>\n",
              "      <td>0</td>\n",
              "      <td>-0.425000</td>\n",
              "    </tr>\n",
              "    <tr>\n",
              "      <th>8</th>\n",
              "      <td>0</td>\n",
              "      <td>-0.851786</td>\n",
              "    </tr>\n",
              "    <tr>\n",
              "      <th>9</th>\n",
              "      <td>0</td>\n",
              "      <td>1.423214</td>\n",
              "    </tr>\n",
              "  </tbody>\n",
              "</table>\n",
              "</div>"
            ],
            "text/plain": [
              "   Sales  Fuel_Cost\n",
              "0      0  -0.842857\n",
              "1     -1   0.812500\n",
              "2      0  -0.075000\n",
              "3      0  -0.714286\n",
              "4     -1   1.685714\n",
              "5      0  -0.857143\n",
              "6      0  -1.412500\n",
              "7      0  -0.425000\n",
              "8      0  -0.851786\n",
              "9      0   1.423214"
            ]
          },
          "metadata": {
            "tags": []
          },
          "execution_count": 187
        }
      ]
    },
    {
      "cell_type": "code",
      "metadata": {
        "colab": {
          "base_uri": "https://localhost:8080/",
          "height": 316
        },
        "id": "nk6snPPs3q-x",
        "outputId": "bda6ade3-ba6f-46a3-f6ca-7a7f4b750873"
      },
      "source": [
        "# k-means clustering w/ k=3\n",
        "kmeans = KMeans(n_clusters=3).fit(zscored_df)   # k = 3\n",
        "centroids = kmeans.cluster_centers_     # 3 Centroids\n",
        "\n",
        "print(centroids)    # Print centroid positions\n",
        "\n",
        "plt.scatter(zscored_df['Sales'], zscored_df['Fuel_Cost'], c=kmeans.labels_.astype(float), s=25, alpha=1.0)    # zscored points are all other colors\n",
        "plt.scatter(centroids[:,0], centroids[:,1], s=50, c='orange')  # Centroids are orange\n",
        "\n",
        "plt.show()"
      ],
      "execution_count": 223,
      "outputs": [
        {
          "output_type": "stream",
          "text": [
            "[[-2.77555756e-17 -7.39795918e-01]\n",
            " [-1.00000000e+00  1.24910714e+00]\n",
            " [ 0.00000000e+00  1.42321429e+00]]\n"
          ],
          "name": "stdout"
        },
        {
          "output_type": "display_data",
          "data": {
            "image/png": "[encoded data removed]",
            "text/plain": [
              "<Figure size 432x288 with 1 Axes>"
            ]
          },
          "metadata": {
            "tags": [],
            "needs_background": "light"
          }
        }
      ]
    }
  ]
}